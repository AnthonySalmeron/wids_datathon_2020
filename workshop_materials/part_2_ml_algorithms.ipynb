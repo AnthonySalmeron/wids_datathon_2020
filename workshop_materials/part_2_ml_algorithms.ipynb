{
 "cells": [
  {
   "cell_type": "markdown",
   "metadata": {
    "slideshow": {
     "slide_type": "slide"
    }
   },
   "source": [
    "# WiDS DATATHON WORKSHOP\n",
    "## FEBRUARY 15, 2020\n",
    "<img src=\"images/inst_logos.png\" alt=\"Harvard IACS\" style=\"height: 80px;\" align=\"left\"/>"
   ]
  },
  {
   "cell_type": "markdown",
   "metadata": {
    "slideshow": {
     "slide_type": "fragment"
    }
   },
   "source": [
    "### INSTRUCTORS: \n",
    "- **Karren Yang (MIT)**\n",
    "- **Weiwei Pan (Harvard IACS)**"
   ]
  },
  {
   "cell_type": "markdown",
   "metadata": {
    "slideshow": {
     "slide_type": "slide"
    }
   },
   "source": [
    "### Task: Predicting Patient Survival\n",
    " \n",
    "The challenge is to create a model that uses data from the first 24 hours of intensive care to predict patient survival.\n",
    "\n",
    "### Part I. Data exploration and preprocessing\n",
    "### Part II. ML and classification algorithms\n",
    "* What is supervised learning?\n",
    "* Models/algorithms for classification:\n",
    "    * Logistic Regression\n",
    "    * Decision Trees\n",
    "    * Neural Networks\n",
    "    * Ensemble Methods\n",
    "* Evaluation metrics"
   ]
  },
  {
   "cell_type": "markdown",
   "metadata": {
    "slideshow": {
     "slide_type": "slide"
    }
   },
   "source": [
    "## Predicting patient survival is a supervised learning problem\n",
    "* Supervised learning: \n",
    "    * Training data includes target outcomes\n",
    "    * Learn a model that predicts the outcomes\n",
    "\n",
    "\n",
    "* Unsupervised learning: \n",
    "    * Training data does not include targets\n",
    "    * Learn a model that captures structure of the data (e.g. clustering)\n",
    "\n",
    "<img src=\"images/supervised_vs_unsupervised.png\" alt=\"\" style=\"height: 250px;\" align=\"center\"/>"
   ]
  },
  {
   "cell_type": "markdown",
   "metadata": {
    "slideshow": {
     "slide_type": "slide"
    }
   },
   "source": [
    "## Supervised learning in a nutshell\n",
    "* We have a set of observations, called **training data** $\\{(\\mathbf{x}_1, y_1),\\ldots, (\\mathbf{x}_N, y_N)\\}$\n",
    "    * $\\mathbf{x}_1, \\mathbf{x}_2, \\cdots, \\mathbf{x}_N$ are features belonging to a feature space $\\mathcal{X}$\n",
    "    * $y_1, y_2, \\cdots, y_N$ are the target outcomes belong to outcome space $\\mathcal{Y}$\n",
    "\n",
    "\n",
    "* The **model** is a function that maps from feature space to outcome space: $f: \\mathcal{X} \\rightarrow \\mathcal{Y}$\n",
    "    * The function depends on coefficients or constants that are called **parameters**. \n",
    "    * E.g. linear regression has parameters $\\mathbf{w}$\n",
    "$$\n",
    "f(\\mathbf{x}) = \\mathbf{w}^T \\mathbf{x}\n",
    "$$\n",
    "\n",
    "\n",
    "* **Fitting/training** the model means optimizing these parameters to best explain the training data\n",
    "* **Evaluating** the model means making predictions $\\widehat{y}_i = f(\\mathbf{x}_i)$ and comparing them to the true outcomes $y_i$\n",
    "    * E.g. linear regression uses mean-squared error:\n",
    "\n",
    "$$\n",
    "\\min_{\\mathbf{w}} \\frac{1}{N} \\sum_{i=1}^N \\left(\\mathbf{w}^T \\mathbf{x}_i - y_i \\right)^2\n",
    "$$\n",
    "    \n"
   ]
  },
  {
   "cell_type": "markdown",
   "metadata": {
    "slideshow": {
     "slide_type": "slide"
    }
   },
   "source": [
    "## Classification vs. Regression\n",
    "* Regression - outcome $y$ is continuous\n",
    "* Classification - outcome $y$ is categorical\n",
    "<img src=\"images/classification_vs_regression.png\" alt=\"\" style=\"height: 300px;\" align=\"center\"/>"
   ]
  },
  {
   "cell_type": "markdown",
   "metadata": {
    "slideshow": {
     "slide_type": "slide"
    }
   },
   "source": [
    "## Predicting patient survival is binary classification problem\n",
    "\n",
    "* Our **training data** $\\{(\\mathbf{x}_1, y_1),\\ldots, (\\mathbf{x}_N, y_N)\\}$ contains about 90,000 samples\n",
    "    * $\\mathbf{x}_1, \\mathbf{x}_2, \\cdots, \\mathbf{x}_N$ are features in $\\mathbb{R}^D$\n",
    "    * $y_1, y_2, \\cdots, y_N$ are the patient survival labels belong to $\\{0, 1\\}$ (0 = survived, 1 = died)\n",
    "\n",
    "\n",
    "* We will consider different **models** that map features to patient survival outcomes: \n",
    "\n",
    "$$f: \\mathbb{R}^D \\rightarrow \\{0, 1\\}$$\n",
    "\n",
    "* Many algorithms take a **probabilistic** approach to modeling (why?):\n",
    "    * Learn function $g: \\mathbb{R}^D \\rightarrow [0,1]$ that maps features to the **probability** of the outcome being 1, i.e. probability that patient dies\n",
    "    * The function $f$ is obtained by applying a threshold of 0.5 to the output of $g$"
   ]
  },
  {
   "cell_type": "markdown",
   "metadata": {
    "slideshow": {
     "slide_type": "slide"
    }
   },
   "source": [
    "### Example: Logistic Regression\n",
    "We model the probability of patient death using $g_\\mathbf{w}(\\mathbf{x})$, defined as,\n",
    "$$ g_\\mathbf{w}(\\mathbf{x}) = \\sigma \\left( \\mathbf{w}^T\\mathbf{x}\\right), $$\n",
    "\n",
    "* $\\mathbf{w} \\in \\mathbb{R}^D$ is a **parameter** vector with the same dimensionality as the features $\\mathbf{x}$\n",
    "* $\\sigma: \\mathbb{R} \\rightarrow [0,1]$ is the **sigmoid/logistic function** \n",
    "     \n",
    " <img src=\"images/decision_boundary3.png\" alt=\"\" style=\"height: 200px;\" align=\"center\"/>\n",
    "\n"
   ]
  },
  {
   "cell_type": "markdown",
   "metadata": {
    "slideshow": {
     "slide_type": "skip"
    }
   },
   "source": [
    "### How to interpret the model?\n",
    "\n",
    "* The sigmoid function *squashes* real values to probabilities in the range $(0,1)$\n",
    "    * Positive values lead to probabilities greater than 0.5 (i.e. prediction is patient death)\n",
    "    * Negative values lead to probabilities less than 0.5 (i.e. prediction is patient survival)\n",
    "\n",
    "\n",
    "* Therefore, the sign of the linear function inside the sigmoid determines the prediction\n",
    "    * $\\mathbf{w}^T\\mathbf{x} > 0 \\implies \\sigma(\\mathbf{w}^T\\mathbf{x}) > 0.5 \\implies $ prediction of patient death\n",
    "    * $\\mathbf{w}^T\\mathbf{x} < 0 \\implies \\sigma(\\mathbf{w}^T\\mathbf{x}) < 0.5 \\implies $ prediction of patient survival\n",
    "    * $\\mathbf{w}^T\\mathbf{x} = 0 \\implies \\sigma(\\mathbf{w}^T\\mathbf{x}) = 0.5 \\implies $ equal likelihood\n",
    "    * So $\\mathbf{w}^T\\mathbf{x} = 0$ is the linear decision boundary\n",
    "    \n",
    "\n",
    "* The sign of each of the parameters $\\mathbf{w} = [w_1, w_2, \\cdots, w_D]$ indicates whether each feature contributes positively or negatively to the outcome"
   ]
  },
  {
   "cell_type": "markdown",
   "metadata": {
    "slideshow": {
     "slide_type": "slide"
    }
   },
   "source": [
    "### Let's apply it to the patient survival dataset\n",
    "\n",
    "* Read and manipulate data using pandas and numpy libraries\n",
    "* Logistic regression is implemented in [scikit-learn](https://scikit-learn.org/stable/modules/generated/sklearn.linear_model.LogisticRegression.html)"
   ]
  },
  {
   "cell_type": "code",
   "execution_count": 1,
   "metadata": {
    "slideshow": {
     "slide_type": "skip"
    }
   },
   "outputs": [],
   "source": [
    "import numpy as np\n",
    "import pandas as pd\n",
    "import warnings\n",
    "warnings.filterwarnings('ignore')\n",
    "\n",
    "# read in preprocessed dataset\n",
    "data = pd.read_csv('data/preprocessed.csv')\n",
    "\n",
    "# separate features from outcomes\n",
    "X = np.array(data.iloc[:,1:])\n",
    "y = np.array(data.iloc[:,0])"
   ]
  },
  {
   "cell_type": "code",
   "execution_count": 2,
   "metadata": {
    "slideshow": {
     "slide_type": "fragment"
    }
   },
   "outputs": [],
   "source": [
    "from sklearn.linear_model import LogisticRegression\n",
    "from sklearn.model_selection import train_test_split\n",
    "\n",
    "# run logistic regression on a random subset of the data\n",
    "X_train, X_test, y_train, y_test = train_test_split(X, y, test_size=0.10, random_state=42)\n",
    "clf = LogisticRegression(random_state=0).fit(X_train, y_train)"
   ]
  },
  {
   "cell_type": "markdown",
   "metadata": {
    "slideshow": {
     "slide_type": "slide"
    }
   },
   "source": [
    "### How should we evaluate the model?\n",
    "\n",
    "* Key purpose of learning: we want our models to generalize to new unseen data\n",
    "    * Train on a subset of the data (\"training set\")\n",
    "    * Evaluate on a held-out subset of the data (\"test set\")\n",
    "\n",
    "\n",
    "* Classification accuracy: determine on average how often the prediction matches the real outcome\n",
    "$$\n",
    "\\frac{1}{N} \\sum_{i=1}^N \\mathbb{1}\\left(f(\\mathbf{x}_i) = y_i\\right)\n",
    "$$"
   ]
  },
  {
   "cell_type": "code",
   "execution_count": 3,
   "metadata": {
    "slideshow": {
     "slide_type": "fragment"
    }
   },
   "outputs": [
    {
     "data": {
      "text/plain": [
       "0.9196467509812473"
      ]
     },
     "execution_count": 3,
     "metadata": {},
     "output_type": "execute_result"
    }
   ],
   "source": [
    "clf.score(X_test, y_test)"
   ]
  },
  {
   "cell_type": "markdown",
   "metadata": {
    "slideshow": {
     "slide_type": "slide"
    }
   },
   "source": [
    "###  Receiver operating characteristic (ROC) curve\n",
    "* Classification accuracy problematic for evaluating patient survival models (why?)\n",
    "* Alternative: Plot true positive rate (TPR) against the false positive rate (FPR) at various threshold settings\n",
    "\n",
    "$$TPR = \\frac{TP}{TP + FN}, \\quad FPR = \\frac{FP}{FP + TN}$$\n",
    "\n",
    "* Area under the ROC curve (AUC) - single number which reflects model's performance \n",
    "<img src=\"images/roc_thresholds.png\" alt=\"\" style=\"height: 200px;\" align=\"center\"/>"
   ]
  },
  {
   "cell_type": "code",
   "execution_count": 4,
   "metadata": {
    "slideshow": {
     "slide_type": "slide"
    }
   },
   "outputs": [
    {
     "data": {
      "image/png": "[encoded data removed]",
      "text/plain": [
       "<Figure size 432x288 with 1 Axes>"
      ]
     },
     "metadata": {
      "needs_background": "light"
     },
     "output_type": "display_data"
    }
   ],
   "source": [
    "%matplotlib inline\n",
    "\n",
    "import matplotlib.pyplot as plt\n",
    "from sklearn.metrics import roc_curve, auc\n",
    "\n",
    "# compute FPR and TPR\n",
    "fpr, tpr, _ = roc_curve(y_test, clf.predict_proba(X_test)[:,1])\n",
    "\n",
    "# compute area under the curve\n",
    "roc_auc = auc(fpr, tpr)\n",
    "\n",
    "# plot\n",
    "plt.plot(fpr, tpr, color='darkorange',\n",
    "         lw=2, label='ROC curve (area = %0.2f)' % roc_auc)\n",
    "plt.plot([0, 1], [0, 1], color='navy', lw=2, linestyle='--')\n",
    "plt.xlabel('False Positive Rate')\n",
    "plt.ylabel('True Positive Rate')\n",
    "plt.legend(loc=\"lower right\")\n",
    "plt.show()"
   ]
  },
  {
   "cell_type": "markdown",
   "metadata": {
    "slideshow": {
     "slide_type": "slide"
    }
   },
   "source": [
    "### Generalizing the logistic regression model\n",
    "\n",
    "* What if the data is too complex to be separated by a linear decision boundary?"
   ]
  },
  {
   "cell_type": "code",
   "execution_count": 5,
   "metadata": {
    "slideshow": {
     "slide_type": "skip"
    }
   },
   "outputs": [],
   "source": [
    "# function to generate some toy data for classification\n",
    "def generate_toy_data(rand_state):\n",
    "    data = np.random.multivariate_normal([0, 0], np.eye(2) * 5, size=200)\n",
    "    data = np.hstack((data, np.zeros((200, 1))))\n",
    "    data[data[:, 0]**2 + data[:, 1]**2 < 3**2, 2] = np.random.choice([0, 1], \n",
    "                                                                     len(data[data[:, 0]**2 + data[:, 1]**2 < 3**2]), \n",
    "                                                                     p=[0.2, 0.8])\n",
    "    X = data[:, :-1]\n",
    "    y = data[:, -1]\n",
    "    \n",
    "    return X, y\n",
    "\n",
    "def generate_and_plot_complex_data(rand_state):\n",
    "    # generate more complicated toy data\n",
    "    X, y = generate_toy_data(rand_state)\n",
    "    # plot data and decision boundary of logistic regression\n",
    "    fig, ax = plt.subplots(1, 1, figsize=(5, 5))\n",
    "    # plot class 1\n",
    "    ax.scatter(X[y == 1, 0], X[y == 1, 1], c='blue', label='Class 1')\n",
    "    # plot class 0\n",
    "    ax.scatter(X[y == 0, 0], X[y == 0, 1], c='red', label='Class 0', alpha=0.3)\n",
    "    # label axes\n",
    "    ax.set_xlabel('Feature 1')\n",
    "    ax.set_ylabel('Feature 2')\n",
    "    # label title\n",
    "    ax.set_title('Toy Data for Binary Classification')\n",
    "    # add legend\n",
    "    ax.legend()\n",
    "    # add x, y limits\n",
    "    ax.set_xlim([-4, 4])\n",
    "    ax.set_ylim([-4, 4])\n",
    "\n",
    "    plt.tight_layout()\n",
    "    plt.show()\n",
    "    \n",
    "    return X, y"
   ]
  },
  {
   "cell_type": "code",
   "execution_count": 6,
   "metadata": {
    "scrolled": false,
    "slideshow": {
     "slide_type": "fragment"
    }
   },
   "outputs": [
    {
     "data": {
      "image/png": "[encoded data removed]",
      "text/plain": [
       "<Figure size 360x360 with 1 Axes>"
      ]
     },
     "metadata": {
      "needs_background": "light"
     },
     "output_type": "display_data"
    }
   ],
   "source": [
    "toy_X, toy_y = generate_and_plot_complex_data(rand_state=2)"
   ]
  },
  {
   "cell_type": "markdown",
   "metadata": {
    "slideshow": {
     "slide_type": "slide"
    }
   },
   "source": [
    "### Generalizing the logistic regression model\n",
    "\n",
    "* Recall: logistic regression models the probability of patient death using $g_\\mathbf{w}(\\mathbf{x})$, defined as,\n",
    "\n",
    "$$ g_\\mathbf{w}(\\mathbf{x}) = \\sigma \\left( \\mathbf{w}^T\\mathbf{x}\\right), $$\n",
    "\n",
    "* We can replace $\\mathbf{w}^T\\mathbf{x}$ with a more complex function $h_\\mathbf{\\theta}(\\mathbf{x})$ where $\\theta$ is the set of learnable parameters\n",
    "\n",
    "\n",
    "* Example 1: logistic regression with quadratic decision boundary, $\\theta = \\{\\mathbf{W}_1, \\mathbf{w}_2\\}$\n",
    "\n",
    "$$ h_\\theta(\\mathbf{x}) = \\mathbf{x}^T \\mathbf{W}_1 \\mathbf{x} + \\mathbf{w}_2 \\mathbf{x}$$\n",
    "\n",
    "* Example 2: neural network classification, letting $h_\\theta(\\mathbf{x})$ be a neural network (will see more later)"
   ]
  },
  {
   "cell_type": "markdown",
   "metadata": {
    "slideshow": {
     "slide_type": "slide"
    }
   },
   "source": [
    "### Another Example of Binary Classification: Decision Trees\n",
    "\n",
    "* People naturally use **decision trees** (flow charts) for classifying various phenomena:\n",
    "<img src=\"images/dt_partition.png\" alt=\"\" style=\"height: 300px;\"/>\n",
    "\n",
    "* Our **model** is $f: \\mathbb{R}^D \\rightarrow \\{0,1\\}$ can also be a decision tree.\n",
    "    * Every *branch* in the tree corresponds to hyperplane that splits up the feature space into two\n",
    "    * Every intersection of half-spaces receives a prediction of 0 or 1"
   ]
  },
  {
   "cell_type": "markdown",
   "metadata": {
    "slideshow": {
     "slide_type": "slide"
    }
   },
   "source": [
    "### Fitting a decision tree on training data:\n",
    "1. Start with an empty decision tree (undivided feature space)\n",
    "2. Choose the 'optimal' predictor on which to split based on criterion (e.g. purity of classes)\n",
    "3. Recurse on on each new node until some stopping condition is met (e.g. reached max depth of tree)"
   ]
  },
  {
   "cell_type": "code",
   "execution_count": 7,
   "metadata": {
    "slideshow": {
     "slide_type": "fragment"
    }
   },
   "outputs": [
    {
     "data": {
      "text/plain": [
       "DecisionTreeClassifier(ccp_alpha=0.0, class_weight=None, criterion='gini',\n",
       "                       max_depth=3, max_features=None, max_leaf_nodes=None,\n",
       "                       min_impurity_decrease=0.0, min_impurity_split=None,\n",
       "                       min_samples_leaf=1, min_samples_split=2,\n",
       "                       min_weight_fraction_leaf=0.0, presort='deprecated',\n",
       "                       random_state=None, splitter='best')"
      ]
     },
     "execution_count": 7,
     "metadata": {},
     "output_type": "execute_result"
    }
   ],
   "source": [
    "from sklearn import tree\n",
    "\n",
    "# create a decision tree model\n",
    "tree_model = tree.DecisionTreeClassifier(max_depth=3)\n",
    "# fit decision tree model\n",
    "tree_model.fit(toy_X, toy_y)"
   ]
  },
  {
   "cell_type": "markdown",
   "metadata": {
    "slideshow": {
     "slide_type": "slide"
    }
   },
   "source": [
    "### Tuning the model hyperparameters\n",
    "\n",
    "* Stopping condition and splitting condition need to be determined before running the algorithm\n",
    "* How do we choose these **hyperparameters**?\n",
    "\n",
    "\n",
    "One (poor) strategy:\n",
    "* Optimize hyperparameters on the training data\n",
    "* Performance on the training data generally increases with model complexity\n",
    "* However, this does not necessarily translate to the test data (**overfitting** the training data)"
   ]
  },
  {
   "cell_type": "code",
   "execution_count": 8,
   "metadata": {
    "slideshow": {
     "slide_type": "skip"
    }
   },
   "outputs": [],
   "source": [
    "def shallow_vs_deep(X, y):\n",
    "    depths = [3, 4, 10, 20]\n",
    "    fig, ax = plt.subplots(2, 2, figsize=(10, 10))\n",
    "    ax = ax.flatten()\n",
    "    for i, depth in enumerate(depths):\n",
    "        # create a decision tree model\n",
    "        tree_model = tree.DecisionTreeClassifier(max_depth=depth)\n",
    "        # fit decision tree model\n",
    "        tree_model.fit(X, y)\n",
    "        # plot decision boundary\n",
    "        ax[i] = plot_decision_boundary(X, y, tree_model, \n",
    "                                       'Decision Tree (depth = ' + str(depth) + ')', \n",
    "                                       ax[i], bounds=(-6, 7), poly_flag=False)\n",
    "        # set x, y limits\n",
    "        ax[i].set_xlim([-4, 4])\n",
    "        ax[i].set_ylim([-4, 4])\n",
    "\n",
    "    plt.tight_layout()\n",
    "    plt.show()\n",
    "    \n",
    "def plot_decision_boundary(x, y, model, title, ax, bounds=(0, 1), poly_flag=False):\n",
    "    # Plot data\n",
    "    ax.scatter(x[y == 1, 0], x[y == 1, 1], c='blue')\n",
    "    ax.scatter(x[y == 0, 0], x[y == 0, 1], c='red', alpha=0.3)\n",
    "    \n",
    "    # Create mesh\n",
    "    interval = np.arange(bounds[0], bounds[1], 0.01)\n",
    "    n = np.size(interval)\n",
    "    x1, x2 = np.meshgrid(interval, interval)\n",
    "    x1 = x1.reshape(-1, 1)\n",
    "    x2 = x2.reshape(-1, 1)\n",
    "    xx = np.concatenate((x1, x2), axis=1)\n",
    "\n",
    "    # Predict on mesh points\n",
    "    if(poly_flag):\n",
    "        quad_features = preprocessing.PolynomialFeatures(degree=2)\n",
    "        xx = quad_features.fit_transform(xx)\n",
    "        \n",
    "        \n",
    "    yy = model.predict(xx)    \n",
    "    yy = yy.reshape((n, n))\n",
    "\n",
    "    # Plot decision surface\n",
    "    x1 = x1.reshape(n, n)\n",
    "    x2 = x2.reshape(n, n)\n",
    "    ax.contourf(x1, x2, yy, alpha=0.1, cmap='Blues')\n",
    "    \n",
    "    # Label axes, set title\n",
    "    ax.set_title(title)\n",
    "    ax.set_xlabel('Feature 1')\n",
    "    ax.set_ylabel('Feature 2')\n",
    "    \n",
    "    return ax"
   ]
  },
  {
   "cell_type": "code",
   "execution_count": 9,
   "metadata": {
    "scrolled": true,
    "slideshow": {
     "slide_type": "slide"
    }
   },
   "outputs": [
    {
     "data": {
      "image/png": "[encoded data removed]",
      "text/plain": [
       "<Figure size 720x720 with 4 Axes>"
      ]
     },
     "metadata": {
      "needs_background": "light"
     },
     "output_type": "display_data"
    }
   ],
   "source": [
    "shallow_vs_deep(toy_X, toy_y)"
   ]
  },
  {
   "cell_type": "markdown",
   "metadata": {
    "slideshow": {
     "slide_type": "slide"
    }
   },
   "source": [
    "### Tuning the model hyperparameters\n",
    "\n",
    "Better strategy: \n",
    "* Split training data into \"train\" and \"validation\" subsets\n",
    "* Choose hyperparameters resulting in best performance on the validation subset\n",
    "* We can even repeat this multiple times to reduce variance (e.g. k-fold cross-validation)\n",
    "\n",
    "### Let's apply this to the patient survival dataset\n",
    "* First determine the optimal tree depth"
   ]
  },
  {
   "cell_type": "code",
   "execution_count": 10,
   "metadata": {
    "slideshow": {
     "slide_type": "skip"
    }
   },
   "outputs": [],
   "source": [
    "# split training data randomly\n",
    "X_train_, X_val, y_train_, y_val = train_test_split(X_train, y_train, test_size=0.25, random_state=42)\n",
    "\n",
    "hyperparameters = list(range(1,15))\n",
    "auc_list = []\n",
    "\n",
    "for hyperparam in hyperparameters:\n",
    "    # create a decision tree model\n",
    "    tree_model = tree.DecisionTreeClassifier(max_depth=hyperparam, random_state=2)\n",
    "    # fit decision tree model to the training data\n",
    "    tree_model.fit(X_train_, y_train_)\n",
    "    # obtain the learned decision function and evaluate it on the held-out data\n",
    "    y_pred_scores = tree_model.predict_proba(X_val)[:,1]\n",
    "    fpr, tpr, thresholds = roc_curve(y_val, y_pred_scores) # obtain false positive and true positive rates\n",
    "    area_under_curve = auc(fpr, tpr)\n",
    "    auc_list.append(area_under_curve)"
   ]
  },
  {
   "cell_type": "code",
   "execution_count": 11,
   "metadata": {
    "slideshow": {
     "slide_type": "slide"
    }
   },
   "outputs": [
    {
     "data": {
      "image/png": "[encoded data removed]",
      "text/plain": [
       "<Figure size 432x288 with 1 Axes>"
      ]
     },
     "metadata": {
      "needs_background": "light"
     },
     "output_type": "display_data"
    }
   ],
   "source": [
    "# plot AUC for different hyperparameter values\n",
    "plt.plot(hyperparameters, auc_list, '-o')\n",
    "plt.xlabel('Hyperparameter (depth of tree)', fontsize=16)\n",
    "plt.ylabel('AUC on Validation Set', fontsize=16)\n",
    "# change x axis tick labels\n",
    "plt.xticks(hyperparameters)\n",
    "plt.show()"
   ]
  },
  {
   "cell_type": "markdown",
   "metadata": {
    "slideshow": {
     "slide_type": "slide"
    }
   },
   "source": [
    "* The optimal tree depth is 7 based on evaluating on the validation data\n",
    "* Now, let's train on all of the data with tree depth = 7 and evaluate on the test data"
   ]
  },
  {
   "cell_type": "code",
   "execution_count": 12,
   "metadata": {
    "slideshow": {
     "slide_type": "fragment"
    }
   },
   "outputs": [
    {
     "name": "stdout",
     "output_type": "stream",
     "text": [
      "AUC on test set = 0.85\n"
     ]
    }
   ],
   "source": [
    "# create a decision tree model\n",
    "tree_model = tree.DecisionTreeClassifier(max_depth=7)\n",
    "# fit decision tree model to the training data\n",
    "tree_model.fit(X_train, y_train)\n",
    "# obtain the learned decision function and evaluate it on the held-out data\n",
    "y_pred_scores = tree_model.predict_proba(X_test)[:,1]\n",
    "fpr, tpr, _ = roc_curve(y_test, y_pred_scores) # obtain false positive and true positive rates\n",
    "area_under_curve = auc(fpr, tpr)\n",
    "print('AUC on test set = {0:.2f}'.format(area_under_curve))"
   ]
  }
 ],
 "metadata": {
  "celltoolbar": "Slideshow",
  "kernelspec": {
   "display_name": "Python 3",
   "language": "python",
   "name": "python3"
  },
  "language_info": {
   "codemirror_mode": {
    "name": "ipython",
    "version": 3
   },
   "file_extension": ".py",
   "mimetype": "text/x-python",
   "name": "python",
   "nbconvert_exporter": "python",
   "pygments_lexer": "ipython3",
   "version": "3.6.7"
  }
 },
 "nbformat": 4,
 "nbformat_minor": 2
}
