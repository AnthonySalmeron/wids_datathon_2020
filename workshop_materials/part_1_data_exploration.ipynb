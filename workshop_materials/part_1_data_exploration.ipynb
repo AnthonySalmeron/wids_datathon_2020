{
 "cells": [
  {
   "cell_type": "markdown",
   "metadata": {
    "slideshow": {
     "slide_type": "slide"
    }
   },
   "source": [
    "# WiDS DATATHON WORKSHOP\n",
    "## FEBRUARY 15, 2020\n",
    "\n",
    "<img src=\"images/inst_logos.png\" alt=\"Harvard IACS\" style=\"height: 80px;\" align=\"left\"/>\n"
   ]
  },
  {
   "cell_type": "markdown",
   "metadata": {
    "slideshow": {
     "slide_type": "fragment"
    }
   },
   "source": [
    "### INSTRUCTORS: \n",
    "- **Karren Yang (MIT)**\n",
    "- **Weiwei Pan (Harvard IACS)**"
   ]
  },
  {
   "cell_type": "markdown",
   "metadata": {
    "collapsed": true,
    "slideshow": {
     "slide_type": "slide"
    }
   },
   "source": [
    "### Task: Predicting Patient Survival\n",
    " \n",
    "The challenge is to create a model that uses data from the first 24 hours of intensive care to predict patient survival.\n",
    "\n",
    "### Part I. Data exploration and preprocessing\n",
    "* Exploration: understand the data in order to use it optimally\n",
    "* Preprocessing: cleaning/engineer data for model development\n",
    "\n",
    "\n",
    "### Part II. ML and classification algorithms"
   ]
  },
  {
   "cell_type": "markdown",
   "metadata": {
    "slideshow": {
     "slide_type": "slide"
    }
   },
   "source": [
    "### Look at the data\n",
    "* Use [Pandas](https://pandas.pydata.org/pandas-docs/stable/) package to read and display data\n",
    "* Identify the columns (e.g. targets, irrelevant features, useful features) based on prior knowledge\n",
    "* Identify numerical and categorical features"
   ]
  },
  {
   "cell_type": "code",
   "execution_count": 1,
   "metadata": {
    "slideshow": {
     "slide_type": "fragment"
    }
   },
   "outputs": [
    {
     "data": {
      "text/html": [
       "<div>\n",
       "<style scoped>\n",
       "    .dataframe tbody tr th:only-of-type {\n",
       "        vertical-align: middle;\n",
       "    }\n",
       "\n",
       "    .dataframe tbody tr th {\n",
       "        vertical-align: top;\n",
       "    }\n",
       "\n",
       "    .dataframe thead th {\n",
       "        text-align: right;\n",
       "    }\n",
       "</style>\n",
       "<table border=\"1\" class=\"dataframe\">\n",
       "  <thead>\n",
       "    <tr style=\"text-align: right;\">\n",
       "      <th></th>\n",
       "      <th>encounter_id</th>\n",
       "      <th>patient_id</th>\n",
       "      <th>hospital_id</th>\n",
       "      <th>hospital_death</th>\n",
       "      <th>age</th>\n",
       "      <th>bmi</th>\n",
       "      <th>elective_surgery</th>\n",
       "      <th>ethnicity</th>\n",
       "      <th>gender</th>\n",
       "      <th>height</th>\n",
       "      <th>...</th>\n",
       "      <th>aids</th>\n",
       "      <th>cirrhosis</th>\n",
       "      <th>diabetes_mellitus</th>\n",
       "      <th>hepatic_failure</th>\n",
       "      <th>immunosuppression</th>\n",
       "      <th>leukemia</th>\n",
       "      <th>lymphoma</th>\n",
       "      <th>solid_tumor_with_metastasis</th>\n",
       "      <th>apache_3j_bodysystem</th>\n",
       "      <th>apache_2_bodysystem</th>\n",
       "    </tr>\n",
       "  </thead>\n",
       "  <tbody>\n",
       "    <tr>\n",
       "      <th>0</th>\n",
       "      <td>66154</td>\n",
       "      <td>25312</td>\n",
       "      <td>118</td>\n",
       "      <td>0</td>\n",
       "      <td>68.0</td>\n",
       "      <td>22.73</td>\n",
       "      <td>0</td>\n",
       "      <td>Caucasian</td>\n",
       "      <td>M</td>\n",
       "      <td>180.3</td>\n",
       "      <td>...</td>\n",
       "      <td>0.0</td>\n",
       "      <td>0.0</td>\n",
       "      <td>1.0</td>\n",
       "      <td>0.0</td>\n",
       "      <td>0.0</td>\n",
       "      <td>0.0</td>\n",
       "      <td>0.0</td>\n",
       "      <td>0.0</td>\n",
       "      <td>Sepsis</td>\n",
       "      <td>Cardiovascular</td>\n",
       "    </tr>\n",
       "    <tr>\n",
       "      <th>1</th>\n",
       "      <td>114252</td>\n",
       "      <td>59342</td>\n",
       "      <td>81</td>\n",
       "      <td>0</td>\n",
       "      <td>77.0</td>\n",
       "      <td>27.42</td>\n",
       "      <td>0</td>\n",
       "      <td>Caucasian</td>\n",
       "      <td>F</td>\n",
       "      <td>160.0</td>\n",
       "      <td>...</td>\n",
       "      <td>0.0</td>\n",
       "      <td>0.0</td>\n",
       "      <td>1.0</td>\n",
       "      <td>0.0</td>\n",
       "      <td>0.0</td>\n",
       "      <td>0.0</td>\n",
       "      <td>0.0</td>\n",
       "      <td>0.0</td>\n",
       "      <td>Respiratory</td>\n",
       "      <td>Respiratory</td>\n",
       "    </tr>\n",
       "    <tr>\n",
       "      <th>2</th>\n",
       "      <td>119783</td>\n",
       "      <td>50777</td>\n",
       "      <td>118</td>\n",
       "      <td>0</td>\n",
       "      <td>25.0</td>\n",
       "      <td>31.95</td>\n",
       "      <td>0</td>\n",
       "      <td>Caucasian</td>\n",
       "      <td>F</td>\n",
       "      <td>172.7</td>\n",
       "      <td>...</td>\n",
       "      <td>0.0</td>\n",
       "      <td>0.0</td>\n",
       "      <td>0.0</td>\n",
       "      <td>0.0</td>\n",
       "      <td>0.0</td>\n",
       "      <td>0.0</td>\n",
       "      <td>0.0</td>\n",
       "      <td>0.0</td>\n",
       "      <td>Metabolic</td>\n",
       "      <td>Metabolic</td>\n",
       "    </tr>\n",
       "  </tbody>\n",
       "</table>\n",
       "<p>3 rows × 186 columns</p>\n",
       "</div>"
      ],
      "text/plain": [
       "   encounter_id  patient_id  hospital_id  hospital_death   age    bmi  \\\n",
       "0         66154       25312          118               0  68.0  22.73   \n",
       "1        114252       59342           81               0  77.0  27.42   \n",
       "2        119783       50777          118               0  25.0  31.95   \n",
       "\n",
       "   elective_surgery  ethnicity gender  height  ... aids cirrhosis  \\\n",
       "0                 0  Caucasian      M   180.3  ...  0.0       0.0   \n",
       "1                 0  Caucasian      F   160.0  ...  0.0       0.0   \n",
       "2                 0  Caucasian      F   172.7  ...  0.0       0.0   \n",
       "\n",
       "   diabetes_mellitus hepatic_failure immunosuppression  leukemia  lymphoma  \\\n",
       "0                1.0             0.0               0.0       0.0       0.0   \n",
       "1                1.0             0.0               0.0       0.0       0.0   \n",
       "2                0.0             0.0               0.0       0.0       0.0   \n",
       "\n",
       "   solid_tumor_with_metastasis  apache_3j_bodysystem  apache_2_bodysystem  \n",
       "0                          0.0                Sepsis       Cardiovascular  \n",
       "1                          0.0           Respiratory          Respiratory  \n",
       "2                          0.0             Metabolic            Metabolic  \n",
       "\n",
       "[3 rows x 186 columns]"
      ]
     },
     "execution_count": 1,
     "metadata": {},
     "output_type": "execute_result"
    }
   ],
   "source": [
    "import pandas as pd\n",
    "\n",
    "data = pd.read_csv('data/training_v2.csv') # read in the data as a DataFrame\n",
    "data.head(3) # show the first 3 rows of the dataset"
   ]
  },
  {
   "cell_type": "markdown",
   "metadata": {
    "slideshow": {
     "slide_type": "slide"
    }
   },
   "source": [
    "### Look out for features that may need to be reformatted\n",
    "* Diagnosis is numerical but actually represents a categorical code"
   ]
  },
  {
   "cell_type": "code",
   "execution_count": 2,
   "metadata": {
    "scrolled": true,
    "slideshow": {
     "slide_type": "fragment"
    }
   },
   "outputs": [
    {
     "name": "stdout",
     "output_type": "stream",
     "text": [
      "apache_2_diagnosis     float64\n",
      "apache_3j_diagnosis    float64\n",
      "dtype: object\n"
     ]
    },
    {
     "data": {
      "text/html": [
       "<div>\n",
       "<style scoped>\n",
       "    .dataframe tbody tr th:only-of-type {\n",
       "        vertical-align: middle;\n",
       "    }\n",
       "\n",
       "    .dataframe tbody tr th {\n",
       "        vertical-align: top;\n",
       "    }\n",
       "\n",
       "    .dataframe thead th {\n",
       "        text-align: right;\n",
       "    }\n",
       "</style>\n",
       "<table border=\"1\" class=\"dataframe\">\n",
       "  <thead>\n",
       "    <tr style=\"text-align: right;\">\n",
       "      <th></th>\n",
       "      <th>apache_2_diagnosis</th>\n",
       "      <th>apache_3j_diagnosis</th>\n",
       "    </tr>\n",
       "  </thead>\n",
       "  <tbody>\n",
       "    <tr>\n",
       "      <th>0</th>\n",
       "      <td>113.0</td>\n",
       "      <td>502.01</td>\n",
       "    </tr>\n",
       "    <tr>\n",
       "      <th>1</th>\n",
       "      <td>108.0</td>\n",
       "      <td>203.01</td>\n",
       "    </tr>\n",
       "    <tr>\n",
       "      <th>2</th>\n",
       "      <td>122.0</td>\n",
       "      <td>703.03</td>\n",
       "    </tr>\n",
       "    <tr>\n",
       "      <th>3</th>\n",
       "      <td>203.0</td>\n",
       "      <td>1206.03</td>\n",
       "    </tr>\n",
       "    <tr>\n",
       "      <th>4</th>\n",
       "      <td>119.0</td>\n",
       "      <td>601.01</td>\n",
       "    </tr>\n",
       "  </tbody>\n",
       "</table>\n",
       "</div>"
      ],
      "text/plain": [
       "   apache_2_diagnosis  apache_3j_diagnosis\n",
       "0               113.0               502.01\n",
       "1               108.0               203.01\n",
       "2               122.0               703.03\n",
       "3               203.0              1206.03\n",
       "4               119.0               601.01"
      ]
     },
     "execution_count": 2,
     "metadata": {},
     "output_type": "execute_result"
    }
   ],
   "source": [
    "subset = data[['apache_2_diagnosis', 'apache_3j_diagnosis']] # get subset of data\n",
    "print(subset.dtypes) # get data types\n",
    "subset.head()"
   ]
  },
  {
   "cell_type": "code",
   "execution_count": 3,
   "metadata": {
    "slideshow": {
     "slide_type": "skip"
    }
   },
   "outputs": [],
   "source": [
    "# recast types\n",
    "data = data.astype({'apache_2_diagnosis': 'object',\n",
    "                    'apache_3j_diagnosis': 'object'\n",
    "                           })"
   ]
  },
  {
   "cell_type": "markdown",
   "metadata": {
    "slideshow": {
     "slide_type": "slide"
    }
   },
   "source": [
    "### Compute basic statistics of dataset and features\n",
    "* Identify sources of missing data, ranges of feature values, outliers, etc."
   ]
  },
  {
   "cell_type": "code",
   "execution_count": 4,
   "metadata": {
    "scrolled": true,
    "slideshow": {
     "slide_type": "fragment"
    }
   },
   "outputs": [
    {
     "data": {
      "text/html": [
       "<div>\n",
       "<style scoped>\n",
       "    .dataframe tbody tr th:only-of-type {\n",
       "        vertical-align: middle;\n",
       "    }\n",
       "\n",
       "    .dataframe tbody tr th {\n",
       "        vertical-align: top;\n",
       "    }\n",
       "\n",
       "    .dataframe thead th {\n",
       "        text-align: right;\n",
       "    }\n",
       "</style>\n",
       "<table border=\"1\" class=\"dataframe\">\n",
       "  <thead>\n",
       "    <tr style=\"text-align: right;\">\n",
       "      <th></th>\n",
       "      <th>age</th>\n",
       "      <th>bmi</th>\n",
       "      <th>ethnicity</th>\n",
       "      <th>h1_bilirubin_max</th>\n",
       "      <th>h1_bilirubin_min</th>\n",
       "    </tr>\n",
       "  </thead>\n",
       "  <tbody>\n",
       "    <tr>\n",
       "      <th>count</th>\n",
       "      <td>87485.000000</td>\n",
       "      <td>88284.000000</td>\n",
       "      <td>90318</td>\n",
       "      <td>7094.000000</td>\n",
       "      <td>7094.000000</td>\n",
       "    </tr>\n",
       "    <tr>\n",
       "      <th>unique</th>\n",
       "      <td>NaN</td>\n",
       "      <td>NaN</td>\n",
       "      <td>6</td>\n",
       "      <td>NaN</td>\n",
       "      <td>NaN</td>\n",
       "    </tr>\n",
       "    <tr>\n",
       "      <th>top</th>\n",
       "      <td>NaN</td>\n",
       "      <td>NaN</td>\n",
       "      <td>Caucasian</td>\n",
       "      <td>NaN</td>\n",
       "      <td>NaN</td>\n",
       "    </tr>\n",
       "    <tr>\n",
       "      <th>freq</th>\n",
       "      <td>NaN</td>\n",
       "      <td>NaN</td>\n",
       "      <td>70684</td>\n",
       "      <td>NaN</td>\n",
       "      <td>NaN</td>\n",
       "    </tr>\n",
       "    <tr>\n",
       "      <th>mean</th>\n",
       "      <td>62.309516</td>\n",
       "      <td>29.185818</td>\n",
       "      <td>NaN</td>\n",
       "      <td>1.098612</td>\n",
       "      <td>1.097752</td>\n",
       "    </tr>\n",
       "    <tr>\n",
       "      <th>std</th>\n",
       "      <td>16.775119</td>\n",
       "      <td>8.275142</td>\n",
       "      <td>NaN</td>\n",
       "      <td>2.033590</td>\n",
       "      <td>2.032605</td>\n",
       "    </tr>\n",
       "    <tr>\n",
       "      <th>min</th>\n",
       "      <td>16.000000</td>\n",
       "      <td>14.844926</td>\n",
       "      <td>NaN</td>\n",
       "      <td>0.200000</td>\n",
       "      <td>0.200000</td>\n",
       "    </tr>\n",
       "    <tr>\n",
       "      <th>25%</th>\n",
       "      <td>52.000000</td>\n",
       "      <td>23.641975</td>\n",
       "      <td>NaN</td>\n",
       "      <td>0.400000</td>\n",
       "      <td>0.400000</td>\n",
       "    </tr>\n",
       "    <tr>\n",
       "      <th>50%</th>\n",
       "      <td>65.000000</td>\n",
       "      <td>27.654655</td>\n",
       "      <td>NaN</td>\n",
       "      <td>0.600000</td>\n",
       "      <td>0.600000</td>\n",
       "    </tr>\n",
       "    <tr>\n",
       "      <th>75%</th>\n",
       "      <td>75.000000</td>\n",
       "      <td>32.930206</td>\n",
       "      <td>NaN</td>\n",
       "      <td>1.100000</td>\n",
       "      <td>1.100000</td>\n",
       "    </tr>\n",
       "    <tr>\n",
       "      <th>max</th>\n",
       "      <td>89.000000</td>\n",
       "      <td>67.814990</td>\n",
       "      <td>NaN</td>\n",
       "      <td>40.400000</td>\n",
       "      <td>40.400000</td>\n",
       "    </tr>\n",
       "  </tbody>\n",
       "</table>\n",
       "</div>"
      ],
      "text/plain": [
       "                 age           bmi  ethnicity  h1_bilirubin_max  \\\n",
       "count   87485.000000  88284.000000      90318       7094.000000   \n",
       "unique           NaN           NaN          6               NaN   \n",
       "top              NaN           NaN  Caucasian               NaN   \n",
       "freq             NaN           NaN      70684               NaN   \n",
       "mean       62.309516     29.185818        NaN          1.098612   \n",
       "std        16.775119      8.275142        NaN          2.033590   \n",
       "min        16.000000     14.844926        NaN          0.200000   \n",
       "25%        52.000000     23.641975        NaN          0.400000   \n",
       "50%        65.000000     27.654655        NaN          0.600000   \n",
       "75%        75.000000     32.930206        NaN          1.100000   \n",
       "max        89.000000     67.814990        NaN         40.400000   \n",
       "\n",
       "        h1_bilirubin_min  \n",
       "count        7094.000000  \n",
       "unique               NaN  \n",
       "top                  NaN  \n",
       "freq                 NaN  \n",
       "mean            1.097752  \n",
       "std             2.032605  \n",
       "min             0.200000  \n",
       "25%             0.400000  \n",
       "50%             0.600000  \n",
       "75%             1.100000  \n",
       "max            40.400000  "
      ]
     },
     "execution_count": 4,
     "metadata": {},
     "output_type": "execute_result"
    }
   ],
   "source": [
    "subset = data[['age', 'bmi', 'ethnicity', 'h1_bilirubin_max', 'h1_bilirubin_min']] # get subset of data\n",
    "subset.describe(include = 'all') # show summary statistics"
   ]
  },
  {
   "cell_type": "markdown",
   "metadata": {
    "slideshow": {
     "slide_type": "slide"
    }
   },
   "source": [
    "\n",
    " \n",
    "### Visualizing the distributions of different features\n",
    "* Look for biases in the data that may affect model training or deployment\n",
    "* Use [matplotlib](https://matplotlib.org) package to plot data\n",
    "* Example: Make bar plot of distribution of patient survival\n"
   ]
  },
  {
   "cell_type": "code",
   "execution_count": 5,
   "metadata": {
    "slideshow": {
     "slide_type": "skip"
    }
   },
   "outputs": [],
   "source": [
    "%matplotlib inline\n",
    "import matplotlib.pyplot as plt\n",
    "import numpy as np\n",
    "import scipy"
   ]
  },
  {
   "cell_type": "code",
   "execution_count": 6,
   "metadata": {
    "slideshow": {
     "slide_type": "fragment"
    }
   },
   "outputs": [
    {
     "data": {
      "image/png": "[encoded data removed]",
      "text/plain": [
       "<Figure size 432x288 with 1 Axes>"
      ]
     },
     "metadata": {
      "needs_background": "light"
     },
     "output_type": "display_data"
    }
   ],
   "source": [
    "# make bar plot of counts\n",
    "data['hospital_death'].value_counts().plot.bar() \n",
    "plt.ylabel('counts')\n",
    "plt.xlabel('hospital_death')\n",
    "plt.show()"
   ]
  },
  {
   "cell_type": "markdown",
   "metadata": {
    "slideshow": {
     "slide_type": "slide"
    }
   },
   "source": [
    "* Example: Make bar plot of distribution of ethnicity"
   ]
  },
  {
   "cell_type": "code",
   "execution_count": 7,
   "metadata": {
    "slideshow": {
     "slide_type": "fragment"
    }
   },
   "outputs": [
    {
     "data": {
      "image/png": "[encoded data removed]",
      "text/plain": [
       "<Figure size 432x288 with 1 Axes>"
      ]
     },
     "metadata": {
      "needs_background": "light"
     },
     "output_type": "display_data"
    }
   ],
   "source": [
    "data['ethnicity'].value_counts().plot.bar() \n",
    "plt.ylabel('counts')\n",
    "plt.xlabel('ethnicity')\n",
    "plt.show()"
   ]
  },
  {
   "cell_type": "markdown",
   "metadata": {
    "slideshow": {
     "slide_type": "slide"
    }
   },
   "source": [
    "* Example: Make histogram of distribution of age"
   ]
  },
  {
   "cell_type": "code",
   "execution_count": 8,
   "metadata": {
    "slideshow": {
     "slide_type": "fragment"
    }
   },
   "outputs": [
    {
     "data": {
      "image/png": "[encoded data removed]",
      "text/plain": [
       "<Figure size 432x288 with 1 Axes>"
      ]
     },
     "metadata": {
      "needs_background": "light"
     },
     "output_type": "display_data"
    }
   ],
   "source": [
    "data['age'].hist()\n",
    "plt.ylabel('frequency')\n",
    "plt.xlabel('age')\n",
    "plt.show()"
   ]
  },
  {
   "cell_type": "markdown",
   "metadata": {
    "slideshow": {
     "slide_type": "slide"
    }
   },
   "source": [
    "* Example: make boxplot of age vs. survival\n"
   ]
  },
  {
   "cell_type": "code",
   "execution_count": 9,
   "metadata": {
    "scrolled": true,
    "slideshow": {
     "slide_type": "fragment"
    }
   },
   "outputs": [
    {
     "data": {
      "image/png": "[encoded data removed]",
      "text/plain": [
       "<Figure size 432x288 with 1 Axes>"
      ]
     },
     "metadata": {
      "needs_background": "light"
     },
     "output_type": "display_data"
    }
   ],
   "source": [
    "data.boxplot(column=['age'], by=['hospital_death'])\n",
    "plt.show()"
   ]
  },
  {
   "cell_type": "markdown",
   "metadata": {
    "slideshow": {
     "slide_type": "slide"
    }
   },
   "source": [
    "* Example: make scatterplot of diastolic vs. systolic BP\n"
   ]
  },
  {
   "cell_type": "code",
   "execution_count": 10,
   "metadata": {
    "scrolled": false,
    "slideshow": {
     "slide_type": "fragment"
    }
   },
   "outputs": [
    {
     "data": {
      "image/png": "[encoded data removed]",
      "text/plain": [
       "<Figure size 432x288 with 1 Axes>"
      ]
     },
     "metadata": {
      "needs_background": "light"
     },
     "output_type": "display_data"
    }
   ],
   "source": [
    "subset = data[['h1_diasbp_max', 'h1_sysbp_max']].loc[0:1000, :].dropna() \n",
    "#print(np.corrcoef(subset['h1_diasbp_max'], subset['h1_sysbp_max'])) # compute correlation coefficient\n",
    "\n",
    "data.loc[0:1000, :].plot.scatter(x='h1_diasbp_max', y='h1_sysbp_max')\n",
    "plt.show()"
   ]
  },
  {
   "cell_type": "markdown",
   "metadata": {
    "collapsed": true,
    "slideshow": {
     "slide_type": "slide"
    }
   },
   "source": [
    "### Part I. Data exploration and preprocessing\n",
    "* Exploration: understand the data in order to use it optimally\n",
    "\n",
    "\n",
    "* Preprocessing: cleaning/engineer data for model development\n",
    "    * Selecting features that are potentially useful for classification\n",
    "    * Encoding categorical features to numerical values\n",
    "    * Normalizing continuous features\n",
    "    * Handling missing values (so many missing values)\n",
    "\n",
    "### Part II. ML and classification algorithms"
   ]
  },
  {
   "cell_type": "markdown",
   "metadata": {
    "slideshow": {
     "slide_type": "slide"
    }
   },
   "source": [
    "### Select features that are potentially useful for classification based on prior knowledge"
   ]
  },
  {
   "cell_type": "code",
   "execution_count": 11,
   "metadata": {
    "slideshow": {
     "slide_type": "skip"
    }
   },
   "outputs": [],
   "source": [
    "features_you_want = ['hospital_death', 'age', 'bmi', 'elective_surgery', 'ethnicity', 'gender', 'height', 'pre_icu_los_days', 'readmission_status', 'weight', 'albumin_apache', 'apache_2_diagnosis', 'apache_post_operative', 'arf_apache', 'bilirubin_apache', 'bun_apache', 'creatinine_apache', 'fio2_apache', 'gcs_eyes_apache', 'gcs_motor_apache', 'gcs_unable_apache', 'gcs_verbal_apache', 'glucose_apache', 'heart_rate_apache', 'hematocrit_apache', 'intubated_apache', 'map_apache', 'paco2_apache', 'paco2_for_ph_apache', 'pao2_apache', 'ph_apache', 'resprate_apache', 'sodium_apache', 'temp_apache', 'urineoutput_apache', 'ventilated_apache', 'wbc_apache', 'd1_diasbp_invasive_max', 'd1_diasbp_invasive_min', 'd1_diasbp_max', 'd1_diasbp_min', 'd1_diasbp_noninvasive_max', 'd1_diasbp_noninvasive_min', 'd1_heartrate_max', 'd1_heartrate_min', 'd1_mbp_invasive_max', 'd1_mbp_invasive_min', 'd1_mbp_max', 'd1_mbp_min', 'd1_mbp_noninvasive_max', 'd1_mbp_noninvasive_min', 'd1_resprate_max', 'd1_resprate_min', 'd1_spo2_max', 'd1_spo2_min', 'd1_sysbp_invasive_max', 'd1_sysbp_invasive_min', 'd1_sysbp_max', 'd1_sysbp_min', 'd1_sysbp_noninvasive_max', 'd1_sysbp_noninvasive_min', 'd1_temp_max', 'd1_temp_min', 'h1_diasbp_invasive_max', 'h1_diasbp_invasive_min', 'h1_diasbp_max', 'h1_diasbp_min', 'h1_diasbp_noninvasive_max', 'h1_diasbp_noninvasive_min', 'h1_heartrate_max', 'h1_heartrate_min', 'h1_mbp_invasive_max', 'h1_mbp_invasive_min', 'h1_mbp_max', 'h1_mbp_min', 'h1_mbp_noninvasive_max', 'h1_mbp_noninvasive_min', 'h1_resprate_max', 'h1_resprate_min', 'h1_spo2_max', 'h1_spo2_min', 'h1_sysbp_invasive_max', 'h1_sysbp_invasive_min', 'h1_sysbp_max', 'h1_sysbp_min', 'h1_sysbp_noninvasive_max', 'h1_sysbp_noninvasive_min', 'h1_temp_max', 'h1_temp_min', 'd1_albumin_max', 'd1_albumin_min', 'd1_bilirubin_max', 'd1_bilirubin_min', 'd1_bun_max', 'd1_bun_min', 'd1_calcium_max', 'd1_calcium_min', 'd1_creatinine_max', 'd1_creatinine_min', 'd1_glucose_max', 'd1_glucose_min', 'd1_hco3_max', 'd1_hco3_min', 'd1_hemaglobin_max', 'd1_hemaglobin_min', 'd1_hematocrit_max', 'd1_hematocrit_min', 'd1_inr_max', 'd1_inr_min', 'd1_lactate_max', 'd1_lactate_min', 'd1_platelets_max', 'd1_platelets_min', 'd1_potassium_max', 'd1_potassium_min', 'd1_sodium_max', 'd1_sodium_min', 'd1_wbc_max', 'd1_wbc_min', 'h1_albumin_max', 'h1_albumin_min', 'h1_bilirubin_max', 'h1_bilirubin_min', 'h1_bun_max', 'h1_bun_min', 'h1_calcium_max', 'h1_calcium_min', 'h1_creatinine_max', 'h1_creatinine_min', 'h1_glucose_max', 'h1_glucose_min', 'h1_hco3_max', 'h1_hco3_min', 'h1_hemaglobin_max', 'h1_hemaglobin_min', 'h1_hematocrit_max', 'h1_hematocrit_min', 'h1_inr_max', 'h1_inr_min', 'h1_lactate_max', 'h1_lactate_min', 'h1_platelets_max', 'h1_platelets_min', 'h1_potassium_max', 'h1_potassium_min', 'h1_sodium_max', 'h1_sodium_min', 'h1_wbc_max', 'h1_wbc_min', 'd1_arterial_pco2_max', 'd1_arterial_pco2_min', 'd1_arterial_ph_max', 'd1_arterial_ph_min', 'd1_arterial_po2_max', 'd1_arterial_po2_min', 'd1_pao2fio2ratio_max', 'd1_pao2fio2ratio_min', 'h1_arterial_pco2_max', 'h1_arterial_pco2_min', 'h1_arterial_ph_max', 'h1_arterial_ph_min', 'h1_arterial_po2_max', 'h1_arterial_po2_min', 'h1_pao2fio2ratio_max', 'h1_pao2fio2ratio_min', 'apache_4a_hospital_death_prob', 'apache_4a_icu_death_prob', 'aids', 'cirrhosis', 'diabetes_mellitus', 'hepatic_failure', 'immunosuppression', 'leukemia', 'lymphoma', 'solid_tumor_with_metastasis', 'apache_3j_bodysystem', 'apache_2_bodysystem']"
   ]
  },
  {
   "cell_type": "code",
   "execution_count": 12,
   "metadata": {
    "slideshow": {
     "slide_type": "fragment"
    }
   },
   "outputs": [
    {
     "data": {
      "text/html": [
       "<div>\n",
       "<style scoped>\n",
       "    .dataframe tbody tr th:only-of-type {\n",
       "        vertical-align: middle;\n",
       "    }\n",
       "\n",
       "    .dataframe tbody tr th {\n",
       "        vertical-align: top;\n",
       "    }\n",
       "\n",
       "    .dataframe thead th {\n",
       "        text-align: right;\n",
       "    }\n",
       "</style>\n",
       "<table border=\"1\" class=\"dataframe\">\n",
       "  <thead>\n",
       "    <tr style=\"text-align: right;\">\n",
       "      <th></th>\n",
       "      <th>hospital_death</th>\n",
       "      <th>age</th>\n",
       "      <th>bmi</th>\n",
       "      <th>elective_surgery</th>\n",
       "      <th>ethnicity</th>\n",
       "      <th>gender</th>\n",
       "      <th>height</th>\n",
       "      <th>pre_icu_los_days</th>\n",
       "      <th>readmission_status</th>\n",
       "      <th>weight</th>\n",
       "      <th>...</th>\n",
       "      <th>aids</th>\n",
       "      <th>cirrhosis</th>\n",
       "      <th>diabetes_mellitus</th>\n",
       "      <th>hepatic_failure</th>\n",
       "      <th>immunosuppression</th>\n",
       "      <th>leukemia</th>\n",
       "      <th>lymphoma</th>\n",
       "      <th>solid_tumor_with_metastasis</th>\n",
       "      <th>apache_3j_bodysystem</th>\n",
       "      <th>apache_2_bodysystem</th>\n",
       "    </tr>\n",
       "  </thead>\n",
       "  <tbody>\n",
       "    <tr>\n",
       "      <th>0</th>\n",
       "      <td>0</td>\n",
       "      <td>68.0</td>\n",
       "      <td>22.73</td>\n",
       "      <td>0</td>\n",
       "      <td>Caucasian</td>\n",
       "      <td>M</td>\n",
       "      <td>180.3</td>\n",
       "      <td>0.541667</td>\n",
       "      <td>0</td>\n",
       "      <td>73.9</td>\n",
       "      <td>...</td>\n",
       "      <td>0.0</td>\n",
       "      <td>0.0</td>\n",
       "      <td>1.0</td>\n",
       "      <td>0.0</td>\n",
       "      <td>0.0</td>\n",
       "      <td>0.0</td>\n",
       "      <td>0.0</td>\n",
       "      <td>0.0</td>\n",
       "      <td>Sepsis</td>\n",
       "      <td>Cardiovascular</td>\n",
       "    </tr>\n",
       "    <tr>\n",
       "      <th>1</th>\n",
       "      <td>0</td>\n",
       "      <td>77.0</td>\n",
       "      <td>27.42</td>\n",
       "      <td>0</td>\n",
       "      <td>Caucasian</td>\n",
       "      <td>F</td>\n",
       "      <td>160.0</td>\n",
       "      <td>0.927778</td>\n",
       "      <td>0</td>\n",
       "      <td>70.2</td>\n",
       "      <td>...</td>\n",
       "      <td>0.0</td>\n",
       "      <td>0.0</td>\n",
       "      <td>1.0</td>\n",
       "      <td>0.0</td>\n",
       "      <td>0.0</td>\n",
       "      <td>0.0</td>\n",
       "      <td>0.0</td>\n",
       "      <td>0.0</td>\n",
       "      <td>Respiratory</td>\n",
       "      <td>Respiratory</td>\n",
       "    </tr>\n",
       "    <tr>\n",
       "      <th>2</th>\n",
       "      <td>0</td>\n",
       "      <td>25.0</td>\n",
       "      <td>31.95</td>\n",
       "      <td>0</td>\n",
       "      <td>Caucasian</td>\n",
       "      <td>F</td>\n",
       "      <td>172.7</td>\n",
       "      <td>0.000694</td>\n",
       "      <td>0</td>\n",
       "      <td>95.3</td>\n",
       "      <td>...</td>\n",
       "      <td>0.0</td>\n",
       "      <td>0.0</td>\n",
       "      <td>0.0</td>\n",
       "      <td>0.0</td>\n",
       "      <td>0.0</td>\n",
       "      <td>0.0</td>\n",
       "      <td>0.0</td>\n",
       "      <td>0.0</td>\n",
       "      <td>Metabolic</td>\n",
       "      <td>Metabolic</td>\n",
       "    </tr>\n",
       "    <tr>\n",
       "      <th>3</th>\n",
       "      <td>0</td>\n",
       "      <td>81.0</td>\n",
       "      <td>22.64</td>\n",
       "      <td>1</td>\n",
       "      <td>Caucasian</td>\n",
       "      <td>F</td>\n",
       "      <td>165.1</td>\n",
       "      <td>0.000694</td>\n",
       "      <td>0</td>\n",
       "      <td>61.7</td>\n",
       "      <td>...</td>\n",
       "      <td>0.0</td>\n",
       "      <td>0.0</td>\n",
       "      <td>0.0</td>\n",
       "      <td>0.0</td>\n",
       "      <td>0.0</td>\n",
       "      <td>0.0</td>\n",
       "      <td>0.0</td>\n",
       "      <td>0.0</td>\n",
       "      <td>Cardiovascular</td>\n",
       "      <td>Cardiovascular</td>\n",
       "    </tr>\n",
       "    <tr>\n",
       "      <th>4</th>\n",
       "      <td>0</td>\n",
       "      <td>19.0</td>\n",
       "      <td>NaN</td>\n",
       "      <td>0</td>\n",
       "      <td>Caucasian</td>\n",
       "      <td>M</td>\n",
       "      <td>188.0</td>\n",
       "      <td>0.073611</td>\n",
       "      <td>0</td>\n",
       "      <td>NaN</td>\n",
       "      <td>...</td>\n",
       "      <td>0.0</td>\n",
       "      <td>0.0</td>\n",
       "      <td>0.0</td>\n",
       "      <td>0.0</td>\n",
       "      <td>0.0</td>\n",
       "      <td>0.0</td>\n",
       "      <td>0.0</td>\n",
       "      <td>0.0</td>\n",
       "      <td>Trauma</td>\n",
       "      <td>Trauma</td>\n",
       "    </tr>\n",
       "  </tbody>\n",
       "</table>\n",
       "<p>5 rows × 177 columns</p>\n",
       "</div>"
      ],
      "text/plain": [
       "   hospital_death   age    bmi  elective_surgery  ethnicity gender  height  \\\n",
       "0               0  68.0  22.73                 0  Caucasian      M   180.3   \n",
       "1               0  77.0  27.42                 0  Caucasian      F   160.0   \n",
       "2               0  25.0  31.95                 0  Caucasian      F   172.7   \n",
       "3               0  81.0  22.64                 1  Caucasian      F   165.1   \n",
       "4               0  19.0    NaN                 0  Caucasian      M   188.0   \n",
       "\n",
       "   pre_icu_los_days  readmission_status  weight  ...  aids cirrhosis  \\\n",
       "0          0.541667                   0    73.9  ...   0.0       0.0   \n",
       "1          0.927778                   0    70.2  ...   0.0       0.0   \n",
       "2          0.000694                   0    95.3  ...   0.0       0.0   \n",
       "3          0.000694                   0    61.7  ...   0.0       0.0   \n",
       "4          0.073611                   0     NaN  ...   0.0       0.0   \n",
       "\n",
       "   diabetes_mellitus  hepatic_failure  immunosuppression  leukemia  lymphoma  \\\n",
       "0                1.0              0.0                0.0       0.0       0.0   \n",
       "1                1.0              0.0                0.0       0.0       0.0   \n",
       "2                0.0              0.0                0.0       0.0       0.0   \n",
       "3                0.0              0.0                0.0       0.0       0.0   \n",
       "4                0.0              0.0                0.0       0.0       0.0   \n",
       "\n",
       "   solid_tumor_with_metastasis  apache_3j_bodysystem  apache_2_bodysystem  \n",
       "0                          0.0                Sepsis       Cardiovascular  \n",
       "1                          0.0           Respiratory          Respiratory  \n",
       "2                          0.0             Metabolic            Metabolic  \n",
       "3                          0.0        Cardiovascular       Cardiovascular  \n",
       "4                          0.0                Trauma               Trauma  \n",
       "\n",
       "[5 rows x 177 columns]"
      ]
     },
     "execution_count": 12,
     "metadata": {},
     "output_type": "execute_result"
    }
   ],
   "source": [
    "# select desired features\n",
    "features = data[features_you_want] # select these columns of data\n",
    "features.head()"
   ]
  },
  {
   "cell_type": "markdown",
   "metadata": {
    "slideshow": {
     "slide_type": "slide"
    }
   },
   "source": [
    "### Handling missing data\n",
    "(Slide credit: based on slides by Usha Rengaraju)\n",
    "\n",
    "Missing values are particularly common when working with patient data, in particular due to incomplete measurements. Handling the missing values is one of the greatest challenges faced by analysts, because the choices made can greatly affect the performance of machine learning algorithms. Here we explore some common methods for handling missing data.\n",
    "\n",
    "* Drop missing values\n"
   ]
  },
  {
   "cell_type": "code",
   "execution_count": 13,
   "metadata": {
    "slideshow": {
     "slide_type": "fragment"
    }
   },
   "outputs": [
    {
     "name": "stdout",
     "output_type": "stream",
     "text": [
      "Original shape before dropna() (91713, 177)\n",
      "Shape after dropna() (27, 177)\n"
     ]
    }
   ],
   "source": [
    "print(\"Original shape before dropna()\" , features.shape)\n",
    "drop = features.dropna()\n",
    "print(\"Shape after dropna()\", drop.shape)"
   ]
  },
  {
   "cell_type": "markdown",
   "metadata": {
    "slideshow": {
     "slide_type": "slide"
    }
   },
   "source": [
    "* Drop the values above a certain threshold"
   ]
  },
  {
   "cell_type": "code",
   "execution_count": 14,
   "metadata": {
    "slideshow": {
     "slide_type": "fragment"
    }
   },
   "outputs": [
    {
     "data": {
      "text/plain": [
       "(91713, 75)"
      ]
     },
     "execution_count": 14,
     "metadata": {},
     "output_type": "execute_result"
    }
   ],
   "source": [
    "# Drop columns based on threshold limit\n",
    "threshold = len(features) * 0.90\n",
    "features = features.dropna(axis=1, thresh=threshold)\n",
    "\n",
    "# New number of columns in the dataset\n",
    "features.shape"
   ]
  },
  {
   "cell_type": "markdown",
   "metadata": {
    "slideshow": {
     "slide_type": "slide"
    }
   },
   "source": [
    "* Impute (complete) missing values using  e.g. [scikit-learn](https://scikit-learn.org/stable/modules/impute.html) or [fancyimpute](https://pypi.org/project/fancyimpute/)\n",
    "    * Mean/median/mode imputation\n",
    "    * K-nearest neighbors imputation\n",
    "\n",
    "<img src=\"https://upload.wikimedia.org/wikipedia/commons/thumb/e/e7/KnnClassification.svg/220px-KnnClassification.svg.png\" style=\"height: 300px;\" align=\"center\"/>\n",
    "\n",
    "* Discussion: What are some pros and cons of these different approaches for handling missing data?"
   ]
  },
  {
   "cell_type": "code",
   "execution_count": 15,
   "metadata": {
    "slideshow": {
     "slide_type": "skip"
    }
   },
   "outputs": [],
   "source": [
    "from sklearn import impute\n",
    "\n",
    "# impute numerical values using mean\n",
    "nume_features = features.select_dtypes(include=['float64'])\n",
    "category_names = list(nume_features.columns)\n",
    "imp = impute.SimpleImputer(strategy='median') # specify the imputer\n",
    "nume_features = imp.fit_transform(nume_features)\n",
    "nume_features = pd.DataFrame(nume_features, columns=category_names)\n",
    "#nume_features.head()"
   ]
  },
  {
   "cell_type": "code",
   "execution_count": 16,
   "metadata": {
    "slideshow": {
     "slide_type": "skip"
    }
   },
   "outputs": [],
   "source": [
    "# impute categorical values using most frequent\n",
    "cat_features = features.select_dtypes(include=['int64','object'])\n",
    "category_names = list(cat_features.columns)\n",
    "imp = impute.SimpleImputer(strategy='most_frequent') # specify the imputer\n",
    "cat_features = imp.fit_transform(cat_features)\n",
    "cat_features = pd.DataFrame(cat_features, columns=category_names)\n",
    "#cat_features.head()"
   ]
  },
  {
   "cell_type": "markdown",
   "metadata": {
    "slideshow": {
     "slide_type": "slide"
    }
   },
   "source": [
    "### Encoding categorical features to numerical features\n",
    "\n",
    "* Many quantitative models only accept numerical inputs, so it is typical to convert categorical features to numerical features\n",
    "* Option 1: Represent categorical features as ordinal values (0 to num_categories-1)\n",
    "* Option 2: Represent categorical features as binary vectors\n",
    "\n",
    "<img src=\"images/onehot.png\" style=\"height: 200px;\" align=\"center\"/>"
   ]
  },
  {
   "cell_type": "code",
   "execution_count": 17,
   "metadata": {
    "scrolled": true,
    "slideshow": {
     "slide_type": "slide"
    }
   },
   "outputs": [
    {
     "data": {
      "text/html": [
       "<div>\n",
       "<style scoped>\n",
       "    .dataframe tbody tr th:only-of-type {\n",
       "        vertical-align: middle;\n",
       "    }\n",
       "\n",
       "    .dataframe tbody tr th {\n",
       "        vertical-align: top;\n",
       "    }\n",
       "\n",
       "    .dataframe thead th {\n",
       "        text-align: right;\n",
       "    }\n",
       "</style>\n",
       "<table border=\"1\" class=\"dataframe\">\n",
       "  <thead>\n",
       "    <tr style=\"text-align: right;\">\n",
       "      <th></th>\n",
       "      <th>hospital_death</th>\n",
       "      <th>elective_surgery</th>\n",
       "      <th>readmission_status</th>\n",
       "      <th>apache_post_operative</th>\n",
       "      <th>ethnicity_African American</th>\n",
       "      <th>ethnicity_Asian</th>\n",
       "      <th>ethnicity_Caucasian</th>\n",
       "      <th>ethnicity_Hispanic</th>\n",
       "      <th>ethnicity_Native American</th>\n",
       "      <th>ethnicity_Other/Unknown</th>\n",
       "      <th>...</th>\n",
       "      <th>apache_2_bodysystem_Cardiovascular</th>\n",
       "      <th>apache_2_bodysystem_Gastrointestinal</th>\n",
       "      <th>apache_2_bodysystem_Haematologic</th>\n",
       "      <th>apache_2_bodysystem_Metabolic</th>\n",
       "      <th>apache_2_bodysystem_Neurologic</th>\n",
       "      <th>apache_2_bodysystem_Renal/Genitourinary</th>\n",
       "      <th>apache_2_bodysystem_Respiratory</th>\n",
       "      <th>apache_2_bodysystem_Trauma</th>\n",
       "      <th>apache_2_bodysystem_Undefined Diagnoses</th>\n",
       "      <th>apache_2_bodysystem_Undefined diagnoses</th>\n",
       "    </tr>\n",
       "  </thead>\n",
       "  <tbody>\n",
       "    <tr>\n",
       "      <th>0</th>\n",
       "      <td>0</td>\n",
       "      <td>0</td>\n",
       "      <td>0</td>\n",
       "      <td>0</td>\n",
       "      <td>0</td>\n",
       "      <td>0</td>\n",
       "      <td>1</td>\n",
       "      <td>0</td>\n",
       "      <td>0</td>\n",
       "      <td>0</td>\n",
       "      <td>...</td>\n",
       "      <td>1</td>\n",
       "      <td>0</td>\n",
       "      <td>0</td>\n",
       "      <td>0</td>\n",
       "      <td>0</td>\n",
       "      <td>0</td>\n",
       "      <td>0</td>\n",
       "      <td>0</td>\n",
       "      <td>0</td>\n",
       "      <td>0</td>\n",
       "    </tr>\n",
       "    <tr>\n",
       "      <th>1</th>\n",
       "      <td>0</td>\n",
       "      <td>0</td>\n",
       "      <td>0</td>\n",
       "      <td>0</td>\n",
       "      <td>0</td>\n",
       "      <td>0</td>\n",
       "      <td>1</td>\n",
       "      <td>0</td>\n",
       "      <td>0</td>\n",
       "      <td>0</td>\n",
       "      <td>...</td>\n",
       "      <td>0</td>\n",
       "      <td>0</td>\n",
       "      <td>0</td>\n",
       "      <td>0</td>\n",
       "      <td>0</td>\n",
       "      <td>0</td>\n",
       "      <td>1</td>\n",
       "      <td>0</td>\n",
       "      <td>0</td>\n",
       "      <td>0</td>\n",
       "    </tr>\n",
       "    <tr>\n",
       "      <th>2</th>\n",
       "      <td>0</td>\n",
       "      <td>0</td>\n",
       "      <td>0</td>\n",
       "      <td>0</td>\n",
       "      <td>0</td>\n",
       "      <td>0</td>\n",
       "      <td>1</td>\n",
       "      <td>0</td>\n",
       "      <td>0</td>\n",
       "      <td>0</td>\n",
       "      <td>...</td>\n",
       "      <td>0</td>\n",
       "      <td>0</td>\n",
       "      <td>0</td>\n",
       "      <td>1</td>\n",
       "      <td>0</td>\n",
       "      <td>0</td>\n",
       "      <td>0</td>\n",
       "      <td>0</td>\n",
       "      <td>0</td>\n",
       "      <td>0</td>\n",
       "    </tr>\n",
       "    <tr>\n",
       "      <th>3</th>\n",
       "      <td>0</td>\n",
       "      <td>1</td>\n",
       "      <td>0</td>\n",
       "      <td>1</td>\n",
       "      <td>0</td>\n",
       "      <td>0</td>\n",
       "      <td>1</td>\n",
       "      <td>0</td>\n",
       "      <td>0</td>\n",
       "      <td>0</td>\n",
       "      <td>...</td>\n",
       "      <td>1</td>\n",
       "      <td>0</td>\n",
       "      <td>0</td>\n",
       "      <td>0</td>\n",
       "      <td>0</td>\n",
       "      <td>0</td>\n",
       "      <td>0</td>\n",
       "      <td>0</td>\n",
       "      <td>0</td>\n",
       "      <td>0</td>\n",
       "    </tr>\n",
       "    <tr>\n",
       "      <th>4</th>\n",
       "      <td>0</td>\n",
       "      <td>0</td>\n",
       "      <td>0</td>\n",
       "      <td>0</td>\n",
       "      <td>0</td>\n",
       "      <td>0</td>\n",
       "      <td>1</td>\n",
       "      <td>0</td>\n",
       "      <td>0</td>\n",
       "      <td>0</td>\n",
       "      <td>...</td>\n",
       "      <td>0</td>\n",
       "      <td>0</td>\n",
       "      <td>0</td>\n",
       "      <td>0</td>\n",
       "      <td>0</td>\n",
       "      <td>0</td>\n",
       "      <td>0</td>\n",
       "      <td>1</td>\n",
       "      <td>0</td>\n",
       "      <td>0</td>\n",
       "    </tr>\n",
       "  </tbody>\n",
       "</table>\n",
       "<p>5 rows × 77 columns</p>\n",
       "</div>"
      ],
      "text/plain": [
       "   hospital_death  elective_surgery  readmission_status  \\\n",
       "0               0                 0                   0   \n",
       "1               0                 0                   0   \n",
       "2               0                 0                   0   \n",
       "3               0                 1                   0   \n",
       "4               0                 0                   0   \n",
       "\n",
       "   apache_post_operative  ethnicity_African American  ethnicity_Asian  \\\n",
       "0                      0                           0                0   \n",
       "1                      0                           0                0   \n",
       "2                      0                           0                0   \n",
       "3                      1                           0                0   \n",
       "4                      0                           0                0   \n",
       "\n",
       "   ethnicity_Caucasian  ethnicity_Hispanic  ethnicity_Native American  \\\n",
       "0                    1                   0                          0   \n",
       "1                    1                   0                          0   \n",
       "2                    1                   0                          0   \n",
       "3                    1                   0                          0   \n",
       "4                    1                   0                          0   \n",
       "\n",
       "   ethnicity_Other/Unknown  ...  apache_2_bodysystem_Cardiovascular  \\\n",
       "0                        0  ...                                   1   \n",
       "1                        0  ...                                   0   \n",
       "2                        0  ...                                   0   \n",
       "3                        0  ...                                   1   \n",
       "4                        0  ...                                   0   \n",
       "\n",
       "   apache_2_bodysystem_Gastrointestinal  apache_2_bodysystem_Haematologic  \\\n",
       "0                                     0                                 0   \n",
       "1                                     0                                 0   \n",
       "2                                     0                                 0   \n",
       "3                                     0                                 0   \n",
       "4                                     0                                 0   \n",
       "\n",
       "   apache_2_bodysystem_Metabolic  apache_2_bodysystem_Neurologic  \\\n",
       "0                              0                               0   \n",
       "1                              0                               0   \n",
       "2                              1                               0   \n",
       "3                              0                               0   \n",
       "4                              0                               0   \n",
       "\n",
       "   apache_2_bodysystem_Renal/Genitourinary  apache_2_bodysystem_Respiratory  \\\n",
       "0                                        0                                0   \n",
       "1                                        0                                1   \n",
       "2                                        0                                0   \n",
       "3                                        0                                0   \n",
       "4                                        0                                0   \n",
       "\n",
       "   apache_2_bodysystem_Trauma  apache_2_bodysystem_Undefined Diagnoses  \\\n",
       "0                           0                                        0   \n",
       "1                           0                                        0   \n",
       "2                           0                                        0   \n",
       "3                           0                                        0   \n",
       "4                           1                                        0   \n",
       "\n",
       "   apache_2_bodysystem_Undefined diagnoses  \n",
       "0                                        0  \n",
       "1                                        0  \n",
       "2                                        0  \n",
       "3                                        0  \n",
       "4                                        0  \n",
       "\n",
       "[5 rows x 77 columns]"
      ]
     },
     "execution_count": 17,
     "metadata": {},
     "output_type": "execute_result"
    }
   ],
   "source": [
    "# get one-hot encodings of categorical variables\n",
    "\n",
    "one_hot_encoded = features.select_dtypes(include=['object', 'int64'])\n",
    "one_hot_encoded = pd.get_dummies(one_hot_encoded)\n",
    "one_hot_encoded.head()"
   ]
  },
  {
   "cell_type": "markdown",
   "metadata": {
    "slideshow": {
     "slide_type": "slide"
    }
   },
   "source": [
    "### Standardization of Numerical Features\n",
    "* Many models are sensitive to the ranges of features, i.e. features with greater variability by default have greater influence over the outcome\n",
    "* Option 1: normalize data to have zero-mean and unit-variance\n",
    "* Option 2: rescale range of data to [0,1]\n",
    "\n",
    "<img src=\"images/rescaling.png\" style=\"height: 300px;\" align=\"center\"/>"
   ]
  },
  {
   "cell_type": "code",
   "execution_count": 18,
   "metadata": {
    "slideshow": {
     "slide_type": "skip"
    }
   },
   "outputs": [
    {
     "data": {
      "text/html": [
       "<div>\n",
       "<style scoped>\n",
       "    .dataframe tbody tr th:only-of-type {\n",
       "        vertical-align: middle;\n",
       "    }\n",
       "\n",
       "    .dataframe tbody tr th {\n",
       "        vertical-align: top;\n",
       "    }\n",
       "\n",
       "    .dataframe thead th {\n",
       "        text-align: right;\n",
       "    }\n",
       "</style>\n",
       "<table border=\"1\" class=\"dataframe\">\n",
       "  <thead>\n",
       "    <tr style=\"text-align: right;\">\n",
       "      <th></th>\n",
       "      <th>age</th>\n",
       "      <th>bmi</th>\n",
       "      <th>height</th>\n",
       "      <th>pre_icu_los_days</th>\n",
       "      <th>weight</th>\n",
       "      <th>arf_apache</th>\n",
       "      <th>gcs_eyes_apache</th>\n",
       "      <th>gcs_motor_apache</th>\n",
       "      <th>gcs_unable_apache</th>\n",
       "      <th>gcs_verbal_apache</th>\n",
       "      <th>...</th>\n",
       "      <th>apache_4a_hospital_death_prob</th>\n",
       "      <th>apache_4a_icu_death_prob</th>\n",
       "      <th>aids</th>\n",
       "      <th>cirrhosis</th>\n",
       "      <th>diabetes_mellitus</th>\n",
       "      <th>hepatic_failure</th>\n",
       "      <th>immunosuppression</th>\n",
       "      <th>leukemia</th>\n",
       "      <th>lymphoma</th>\n",
       "      <th>solid_tumor_with_metastasis</th>\n",
       "    </tr>\n",
       "  </thead>\n",
       "  <tbody>\n",
       "    <tr>\n",
       "      <th>count</th>\n",
       "      <td>91713.000000</td>\n",
       "      <td>91713.000000</td>\n",
       "      <td>91713.000000</td>\n",
       "      <td>91713.000000</td>\n",
       "      <td>91713.000000</td>\n",
       "      <td>91713.000000</td>\n",
       "      <td>91713.000000</td>\n",
       "      <td>91713.000000</td>\n",
       "      <td>91713.000000</td>\n",
       "      <td>91713.000000</td>\n",
       "      <td>...</td>\n",
       "      <td>91713.000000</td>\n",
       "      <td>91713.000000</td>\n",
       "      <td>91713.000000</td>\n",
       "      <td>91713.000000</td>\n",
       "      <td>91713.000000</td>\n",
       "      <td>91713.000000</td>\n",
       "      <td>91713.000000</td>\n",
       "      <td>91713.000000</td>\n",
       "      <td>91713.000000</td>\n",
       "      <td>91713.000000</td>\n",
       "    </tr>\n",
       "    <tr>\n",
       "      <th>mean</th>\n",
       "      <td>62.433548</td>\n",
       "      <td>29.128570</td>\n",
       "      <td>169.648256</td>\n",
       "      <td>0.835766</td>\n",
       "      <td>83.917765</td>\n",
       "      <td>0.027761</td>\n",
       "      <td>3.476138</td>\n",
       "      <td>5.482156</td>\n",
       "      <td>0.009421</td>\n",
       "      <td>4.015614</td>\n",
       "      <td>...</td>\n",
       "      <td>0.083599</td>\n",
       "      <td>0.041879</td>\n",
       "      <td>0.000850</td>\n",
       "      <td>0.015570</td>\n",
       "      <td>0.223436</td>\n",
       "      <td>0.012888</td>\n",
       "      <td>0.025961</td>\n",
       "      <td>0.007011</td>\n",
       "      <td>0.004100</td>\n",
       "      <td>0.020477</td>\n",
       "    </tr>\n",
       "    <tr>\n",
       "      <th>std</th>\n",
       "      <td>16.393595</td>\n",
       "      <td>8.124165</td>\n",
       "      <td>10.716719</td>\n",
       "      <td>2.487756</td>\n",
       "      <td>24.645926</td>\n",
       "      <td>0.164287</td>\n",
       "      <td>0.944878</td>\n",
       "      <td>1.277178</td>\n",
       "      <td>0.096603</td>\n",
       "      <td>1.550540</td>\n",
       "      <td>...</td>\n",
       "      <td>0.236826</td>\n",
       "      <td>0.207821</td>\n",
       "      <td>0.029151</td>\n",
       "      <td>0.123806</td>\n",
       "      <td>0.416551</td>\n",
       "      <td>0.112792</td>\n",
       "      <td>0.159021</td>\n",
       "      <td>0.083438</td>\n",
       "      <td>0.063898</td>\n",
       "      <td>0.141626</td>\n",
       "    </tr>\n",
       "    <tr>\n",
       "      <th>min</th>\n",
       "      <td>16.000000</td>\n",
       "      <td>14.844926</td>\n",
       "      <td>137.200000</td>\n",
       "      <td>-24.947222</td>\n",
       "      <td>38.600000</td>\n",
       "      <td>0.000000</td>\n",
       "      <td>1.000000</td>\n",
       "      <td>1.000000</td>\n",
       "      <td>0.000000</td>\n",
       "      <td>1.000000</td>\n",
       "      <td>...</td>\n",
       "      <td>-1.000000</td>\n",
       "      <td>-1.000000</td>\n",
       "      <td>0.000000</td>\n",
       "      <td>0.000000</td>\n",
       "      <td>0.000000</td>\n",
       "      <td>0.000000</td>\n",
       "      <td>0.000000</td>\n",
       "      <td>0.000000</td>\n",
       "      <td>0.000000</td>\n",
       "      <td>0.000000</td>\n",
       "    </tr>\n",
       "    <tr>\n",
       "      <th>25%</th>\n",
       "      <td>53.000000</td>\n",
       "      <td>23.787760</td>\n",
       "      <td>162.560000</td>\n",
       "      <td>0.035417</td>\n",
       "      <td>67.300000</td>\n",
       "      <td>0.000000</td>\n",
       "      <td>3.000000</td>\n",
       "      <td>6.000000</td>\n",
       "      <td>0.000000</td>\n",
       "      <td>4.000000</td>\n",
       "      <td>...</td>\n",
       "      <td>0.020000</td>\n",
       "      <td>0.010000</td>\n",
       "      <td>0.000000</td>\n",
       "      <td>0.000000</td>\n",
       "      <td>0.000000</td>\n",
       "      <td>0.000000</td>\n",
       "      <td>0.000000</td>\n",
       "      <td>0.000000</td>\n",
       "      <td>0.000000</td>\n",
       "      <td>0.000000</td>\n",
       "    </tr>\n",
       "    <tr>\n",
       "      <th>50%</th>\n",
       "      <td>65.000000</td>\n",
       "      <td>27.654655</td>\n",
       "      <td>170.100000</td>\n",
       "      <td>0.138889</td>\n",
       "      <td>80.300000</td>\n",
       "      <td>0.000000</td>\n",
       "      <td>4.000000</td>\n",
       "      <td>6.000000</td>\n",
       "      <td>0.000000</td>\n",
       "      <td>5.000000</td>\n",
       "      <td>...</td>\n",
       "      <td>0.050000</td>\n",
       "      <td>0.020000</td>\n",
       "      <td>0.000000</td>\n",
       "      <td>0.000000</td>\n",
       "      <td>0.000000</td>\n",
       "      <td>0.000000</td>\n",
       "      <td>0.000000</td>\n",
       "      <td>0.000000</td>\n",
       "      <td>0.000000</td>\n",
       "      <td>0.000000</td>\n",
       "    </tr>\n",
       "    <tr>\n",
       "      <th>75%</th>\n",
       "      <td>75.000000</td>\n",
       "      <td>32.653061</td>\n",
       "      <td>177.800000</td>\n",
       "      <td>0.409028</td>\n",
       "      <td>96.300000</td>\n",
       "      <td>0.000000</td>\n",
       "      <td>4.000000</td>\n",
       "      <td>6.000000</td>\n",
       "      <td>0.000000</td>\n",
       "      <td>5.000000</td>\n",
       "      <td>...</td>\n",
       "      <td>0.120000</td>\n",
       "      <td>0.060000</td>\n",
       "      <td>0.000000</td>\n",
       "      <td>0.000000</td>\n",
       "      <td>0.000000</td>\n",
       "      <td>0.000000</td>\n",
       "      <td>0.000000</td>\n",
       "      <td>0.000000</td>\n",
       "      <td>0.000000</td>\n",
       "      <td>0.000000</td>\n",
       "    </tr>\n",
       "    <tr>\n",
       "      <th>max</th>\n",
       "      <td>89.000000</td>\n",
       "      <td>67.814990</td>\n",
       "      <td>195.590000</td>\n",
       "      <td>159.090972</td>\n",
       "      <td>186.000000</td>\n",
       "      <td>1.000000</td>\n",
       "      <td>4.000000</td>\n",
       "      <td>6.000000</td>\n",
       "      <td>1.000000</td>\n",
       "      <td>5.000000</td>\n",
       "      <td>...</td>\n",
       "      <td>0.990000</td>\n",
       "      <td>0.970000</td>\n",
       "      <td>1.000000</td>\n",
       "      <td>1.000000</td>\n",
       "      <td>1.000000</td>\n",
       "      <td>1.000000</td>\n",
       "      <td>1.000000</td>\n",
       "      <td>1.000000</td>\n",
       "      <td>1.000000</td>\n",
       "      <td>1.000000</td>\n",
       "    </tr>\n",
       "  </tbody>\n",
       "</table>\n",
       "<p>8 rows × 66 columns</p>\n",
       "</div>"
      ],
      "text/plain": [
       "                age           bmi        height  pre_icu_los_days  \\\n",
       "count  91713.000000  91713.000000  91713.000000      91713.000000   \n",
       "mean      62.433548     29.128570    169.648256          0.835766   \n",
       "std       16.393595      8.124165     10.716719          2.487756   \n",
       "min       16.000000     14.844926    137.200000        -24.947222   \n",
       "25%       53.000000     23.787760    162.560000          0.035417   \n",
       "50%       65.000000     27.654655    170.100000          0.138889   \n",
       "75%       75.000000     32.653061    177.800000          0.409028   \n",
       "max       89.000000     67.814990    195.590000        159.090972   \n",
       "\n",
       "             weight    arf_apache  gcs_eyes_apache  gcs_motor_apache  \\\n",
       "count  91713.000000  91713.000000     91713.000000      91713.000000   \n",
       "mean      83.917765      0.027761         3.476138          5.482156   \n",
       "std       24.645926      0.164287         0.944878          1.277178   \n",
       "min       38.600000      0.000000         1.000000          1.000000   \n",
       "25%       67.300000      0.000000         3.000000          6.000000   \n",
       "50%       80.300000      0.000000         4.000000          6.000000   \n",
       "75%       96.300000      0.000000         4.000000          6.000000   \n",
       "max      186.000000      1.000000         4.000000          6.000000   \n",
       "\n",
       "       gcs_unable_apache  gcs_verbal_apache  ...  \\\n",
       "count       91713.000000       91713.000000  ...   \n",
       "mean            0.009421           4.015614  ...   \n",
       "std             0.096603           1.550540  ...   \n",
       "min             0.000000           1.000000  ...   \n",
       "25%             0.000000           4.000000  ...   \n",
       "50%             0.000000           5.000000  ...   \n",
       "75%             0.000000           5.000000  ...   \n",
       "max             1.000000           5.000000  ...   \n",
       "\n",
       "       apache_4a_hospital_death_prob  apache_4a_icu_death_prob          aids  \\\n",
       "count                   91713.000000              91713.000000  91713.000000   \n",
       "mean                        0.083599                  0.041879      0.000850   \n",
       "std                         0.236826                  0.207821      0.029151   \n",
       "min                        -1.000000                 -1.000000      0.000000   \n",
       "25%                         0.020000                  0.010000      0.000000   \n",
       "50%                         0.050000                  0.020000      0.000000   \n",
       "75%                         0.120000                  0.060000      0.000000   \n",
       "max                         0.990000                  0.970000      1.000000   \n",
       "\n",
       "          cirrhosis  diabetes_mellitus  hepatic_failure  immunosuppression  \\\n",
       "count  91713.000000       91713.000000     91713.000000       91713.000000   \n",
       "mean       0.015570           0.223436         0.012888           0.025961   \n",
       "std        0.123806           0.416551         0.112792           0.159021   \n",
       "min        0.000000           0.000000         0.000000           0.000000   \n",
       "25%        0.000000           0.000000         0.000000           0.000000   \n",
       "50%        0.000000           0.000000         0.000000           0.000000   \n",
       "75%        0.000000           0.000000         0.000000           0.000000   \n",
       "max        1.000000           1.000000         1.000000           1.000000   \n",
       "\n",
       "           leukemia      lymphoma  solid_tumor_with_metastasis  \n",
       "count  91713.000000  91713.000000                 91713.000000  \n",
       "mean       0.007011      0.004100                     0.020477  \n",
       "std        0.083438      0.063898                     0.141626  \n",
       "min        0.000000      0.000000                     0.000000  \n",
       "25%        0.000000      0.000000                     0.000000  \n",
       "50%        0.000000      0.000000                     0.000000  \n",
       "75%        0.000000      0.000000                     0.000000  \n",
       "max        1.000000      1.000000                     1.000000  \n",
       "\n",
       "[8 rows x 66 columns]"
      ]
     },
     "execution_count": 18,
     "metadata": {},
     "output_type": "execute_result"
    }
   ],
   "source": [
    "from sklearn import preprocessing\n",
    "\n",
    "# display summary statistics\n",
    "nume_features.describe(include = 'all')"
   ]
  },
  {
   "cell_type": "code",
   "execution_count": 19,
   "metadata": {
    "scrolled": true,
    "slideshow": {
     "slide_type": "slide"
    }
   },
   "outputs": [
    {
     "data": {
      "text/html": [
       "<div>\n",
       "<style scoped>\n",
       "    .dataframe tbody tr th:only-of-type {\n",
       "        vertical-align: middle;\n",
       "    }\n",
       "\n",
       "    .dataframe tbody tr th {\n",
       "        vertical-align: top;\n",
       "    }\n",
       "\n",
       "    .dataframe thead th {\n",
       "        text-align: right;\n",
       "    }\n",
       "</style>\n",
       "<table border=\"1\" class=\"dataframe\">\n",
       "  <thead>\n",
       "    <tr style=\"text-align: right;\">\n",
       "      <th></th>\n",
       "      <th>age</th>\n",
       "      <th>bmi</th>\n",
       "      <th>height</th>\n",
       "      <th>pre_icu_los_days</th>\n",
       "      <th>weight</th>\n",
       "      <th>arf_apache</th>\n",
       "      <th>gcs_eyes_apache</th>\n",
       "      <th>gcs_motor_apache</th>\n",
       "      <th>gcs_unable_apache</th>\n",
       "      <th>gcs_verbal_apache</th>\n",
       "      <th>...</th>\n",
       "      <th>apache_4a_hospital_death_prob</th>\n",
       "      <th>apache_4a_icu_death_prob</th>\n",
       "      <th>aids</th>\n",
       "      <th>cirrhosis</th>\n",
       "      <th>diabetes_mellitus</th>\n",
       "      <th>hepatic_failure</th>\n",
       "      <th>immunosuppression</th>\n",
       "      <th>leukemia</th>\n",
       "      <th>lymphoma</th>\n",
       "      <th>solid_tumor_with_metastasis</th>\n",
       "    </tr>\n",
       "  </thead>\n",
       "  <tbody>\n",
       "    <tr>\n",
       "      <th>count</th>\n",
       "      <td>9.171300e+04</td>\n",
       "      <td>9.171300e+04</td>\n",
       "      <td>9.171300e+04</td>\n",
       "      <td>9.171300e+04</td>\n",
       "      <td>9.171300e+04</td>\n",
       "      <td>9.171300e+04</td>\n",
       "      <td>9.171300e+04</td>\n",
       "      <td>9.171300e+04</td>\n",
       "      <td>9.171300e+04</td>\n",
       "      <td>9.171300e+04</td>\n",
       "      <td>...</td>\n",
       "      <td>9.171300e+04</td>\n",
       "      <td>9.171300e+04</td>\n",
       "      <td>9.171300e+04</td>\n",
       "      <td>9.171300e+04</td>\n",
       "      <td>9.171300e+04</td>\n",
       "      <td>9.171300e+04</td>\n",
       "      <td>9.171300e+04</td>\n",
       "      <td>9.171300e+04</td>\n",
       "      <td>9.171300e+04</td>\n",
       "      <td>9.171300e+04</td>\n",
       "    </tr>\n",
       "    <tr>\n",
       "      <th>mean</th>\n",
       "      <td>1.785015e-16</td>\n",
       "      <td>-8.895633e-16</td>\n",
       "      <td>-5.051343e-17</td>\n",
       "      <td>-1.239593e-17</td>\n",
       "      <td>-4.780182e-16</td>\n",
       "      <td>-5.152060e-18</td>\n",
       "      <td>1.406939e-16</td>\n",
       "      <td>9.172992e-17</td>\n",
       "      <td>-9.606850e-18</td>\n",
       "      <td>-1.933766e-16</td>\n",
       "      <td>...</td>\n",
       "      <td>9.916748e-18</td>\n",
       "      <td>3.098984e-18</td>\n",
       "      <td>2.765843e-17</td>\n",
       "      <td>6.972713e-18</td>\n",
       "      <td>1.491386e-17</td>\n",
       "      <td>-1.750926e-17</td>\n",
       "      <td>-1.611472e-17</td>\n",
       "      <td>5.190798e-18</td>\n",
       "      <td>-5.965544e-18</td>\n",
       "      <td>-3.594821e-17</td>\n",
       "    </tr>\n",
       "    <tr>\n",
       "      <th>std</th>\n",
       "      <td>1.000005e+00</td>\n",
       "      <td>1.000005e+00</td>\n",
       "      <td>1.000005e+00</td>\n",
       "      <td>1.000005e+00</td>\n",
       "      <td>1.000005e+00</td>\n",
       "      <td>1.000005e+00</td>\n",
       "      <td>1.000005e+00</td>\n",
       "      <td>1.000005e+00</td>\n",
       "      <td>1.000005e+00</td>\n",
       "      <td>1.000005e+00</td>\n",
       "      <td>...</td>\n",
       "      <td>1.000005e+00</td>\n",
       "      <td>1.000005e+00</td>\n",
       "      <td>1.000005e+00</td>\n",
       "      <td>1.000005e+00</td>\n",
       "      <td>1.000005e+00</td>\n",
       "      <td>1.000005e+00</td>\n",
       "      <td>1.000005e+00</td>\n",
       "      <td>1.000005e+00</td>\n",
       "      <td>1.000005e+00</td>\n",
       "      <td>1.000005e+00</td>\n",
       "    </tr>\n",
       "    <tr>\n",
       "      <th>min</th>\n",
       "      <td>-2.832436e+00</td>\n",
       "      <td>-1.758177e+00</td>\n",
       "      <td>-3.027833e+00</td>\n",
       "      <td>-1.036401e+01</td>\n",
       "      <td>-1.838763e+00</td>\n",
       "      <td>-1.689768e-01</td>\n",
       "      <td>-2.620603e+00</td>\n",
       "      <td>-3.509442e+00</td>\n",
       "      <td>-9.752070e-02</td>\n",
       "      <td>-1.944890e+00</td>\n",
       "      <td>...</td>\n",
       "      <td>-4.575540e+00</td>\n",
       "      <td>-5.013380e+00</td>\n",
       "      <td>-2.917539e-02</td>\n",
       "      <td>-1.257640e-01</td>\n",
       "      <td>-5.363992e-01</td>\n",
       "      <td>-1.142642e-01</td>\n",
       "      <td>-1.632586e-01</td>\n",
       "      <td>-8.402680e-02</td>\n",
       "      <td>-6.416092e-02</td>\n",
       "      <td>-1.445856e-01</td>\n",
       "    </tr>\n",
       "    <tr>\n",
       "      <th>25%</th>\n",
       "      <td>-5.754442e-01</td>\n",
       "      <td>-6.574017e-01</td>\n",
       "      <td>-6.614239e-01</td>\n",
       "      <td>-3.217171e-01</td>\n",
       "      <td>-6.742638e-01</td>\n",
       "      <td>-1.689768e-01</td>\n",
       "      <td>-5.039168e-01</td>\n",
       "      <td>4.054616e-01</td>\n",
       "      <td>-9.752070e-02</td>\n",
       "      <td>-1.007005e-02</td>\n",
       "      <td>...</td>\n",
       "      <td>-2.685504e-01</td>\n",
       "      <td>-1.533980e-01</td>\n",
       "      <td>-2.917539e-02</td>\n",
       "      <td>-1.257640e-01</td>\n",
       "      <td>-5.363992e-01</td>\n",
       "      <td>-1.142642e-01</td>\n",
       "      <td>-1.632586e-01</td>\n",
       "      <td>-8.402680e-02</td>\n",
       "      <td>-6.416092e-02</td>\n",
       "      <td>-1.445856e-01</td>\n",
       "    </tr>\n",
       "    <tr>\n",
       "      <th>50%</th>\n",
       "      <td>1.565530e-01</td>\n",
       "      <td>-1.814246e-01</td>\n",
       "      <td>4.215346e-02</td>\n",
       "      <td>-2.801243e-01</td>\n",
       "      <td>-1.467904e-01</td>\n",
       "      <td>-1.689768e-01</td>\n",
       "      <td>5.544262e-01</td>\n",
       "      <td>4.054616e-01</td>\n",
       "      <td>-9.752070e-02</td>\n",
       "      <td>6.348701e-01</td>\n",
       "      <td>...</td>\n",
       "      <td>-1.418742e-01</td>\n",
       "      <td>-1.052793e-01</td>\n",
       "      <td>-2.917539e-02</td>\n",
       "      <td>-1.257640e-01</td>\n",
       "      <td>-5.363992e-01</td>\n",
       "      <td>-1.142642e-01</td>\n",
       "      <td>-1.632586e-01</td>\n",
       "      <td>-8.402680e-02</td>\n",
       "      <td>-6.416092e-02</td>\n",
       "      <td>-1.445856e-01</td>\n",
       "    </tr>\n",
       "    <tr>\n",
       "      <th>75%</th>\n",
       "      <td>7.665506e-01</td>\n",
       "      <td>4.338305e-01</td>\n",
       "      <td>7.606609e-01</td>\n",
       "      <td>-1.715363e-01</td>\n",
       "      <td>5.024077e-01</td>\n",
       "      <td>-1.689768e-01</td>\n",
       "      <td>5.544262e-01</td>\n",
       "      <td>4.054616e-01</td>\n",
       "      <td>-9.752070e-02</td>\n",
       "      <td>6.348701e-01</td>\n",
       "      <td>...</td>\n",
       "      <td>1.537035e-01</td>\n",
       "      <td>8.719518e-02</td>\n",
       "      <td>-2.917539e-02</td>\n",
       "      <td>-1.257640e-01</td>\n",
       "      <td>-5.363992e-01</td>\n",
       "      <td>-1.142642e-01</td>\n",
       "      <td>-1.632586e-01</td>\n",
       "      <td>-8.402680e-02</td>\n",
       "      <td>-6.416092e-02</td>\n",
       "      <td>-1.445856e-01</td>\n",
       "    </tr>\n",
       "    <tr>\n",
       "      <th>max</th>\n",
       "      <td>1.620547e+00</td>\n",
       "      <td>4.761921e+00</td>\n",
       "      <td>2.420693e+00</td>\n",
       "      <td>6.361398e+01</td>\n",
       "      <td>4.141974e+00</td>\n",
       "      <td>5.917972e+00</td>\n",
       "      <td>5.544262e-01</td>\n",
       "      <td>4.054616e-01</td>\n",
       "      <td>1.025423e+01</td>\n",
       "      <td>6.348701e-01</td>\n",
       "      <td>...</td>\n",
       "      <td>3.827312e+00</td>\n",
       "      <td>4.465991e+00</td>\n",
       "      <td>3.427547e+01</td>\n",
       "      <td>7.951402e+00</td>\n",
       "      <td>1.864283e+00</td>\n",
       "      <td>8.751650e+00</td>\n",
       "      <td>6.125250e+00</td>\n",
       "      <td>1.190097e+01</td>\n",
       "      <td>1.558581e+01</td>\n",
       "      <td>6.916319e+00</td>\n",
       "    </tr>\n",
       "  </tbody>\n",
       "</table>\n",
       "<p>8 rows × 66 columns</p>\n",
       "</div>"
      ],
      "text/plain": [
       "                age           bmi        height  pre_icu_los_days  \\\n",
       "count  9.171300e+04  9.171300e+04  9.171300e+04      9.171300e+04   \n",
       "mean   1.785015e-16 -8.895633e-16 -5.051343e-17     -1.239593e-17   \n",
       "std    1.000005e+00  1.000005e+00  1.000005e+00      1.000005e+00   \n",
       "min   -2.832436e+00 -1.758177e+00 -3.027833e+00     -1.036401e+01   \n",
       "25%   -5.754442e-01 -6.574017e-01 -6.614239e-01     -3.217171e-01   \n",
       "50%    1.565530e-01 -1.814246e-01  4.215346e-02     -2.801243e-01   \n",
       "75%    7.665506e-01  4.338305e-01  7.606609e-01     -1.715363e-01   \n",
       "max    1.620547e+00  4.761921e+00  2.420693e+00      6.361398e+01   \n",
       "\n",
       "             weight    arf_apache  gcs_eyes_apache  gcs_motor_apache  \\\n",
       "count  9.171300e+04  9.171300e+04     9.171300e+04      9.171300e+04   \n",
       "mean  -4.780182e-16 -5.152060e-18     1.406939e-16      9.172992e-17   \n",
       "std    1.000005e+00  1.000005e+00     1.000005e+00      1.000005e+00   \n",
       "min   -1.838763e+00 -1.689768e-01    -2.620603e+00     -3.509442e+00   \n",
       "25%   -6.742638e-01 -1.689768e-01    -5.039168e-01      4.054616e-01   \n",
       "50%   -1.467904e-01 -1.689768e-01     5.544262e-01      4.054616e-01   \n",
       "75%    5.024077e-01 -1.689768e-01     5.544262e-01      4.054616e-01   \n",
       "max    4.141974e+00  5.917972e+00     5.544262e-01      4.054616e-01   \n",
       "\n",
       "       gcs_unable_apache  gcs_verbal_apache  ...  \\\n",
       "count       9.171300e+04       9.171300e+04  ...   \n",
       "mean       -9.606850e-18      -1.933766e-16  ...   \n",
       "std         1.000005e+00       1.000005e+00  ...   \n",
       "min        -9.752070e-02      -1.944890e+00  ...   \n",
       "25%        -9.752070e-02      -1.007005e-02  ...   \n",
       "50%        -9.752070e-02       6.348701e-01  ...   \n",
       "75%        -9.752070e-02       6.348701e-01  ...   \n",
       "max         1.025423e+01       6.348701e-01  ...   \n",
       "\n",
       "       apache_4a_hospital_death_prob  apache_4a_icu_death_prob          aids  \\\n",
       "count                   9.171300e+04              9.171300e+04  9.171300e+04   \n",
       "mean                    9.916748e-18              3.098984e-18  2.765843e-17   \n",
       "std                     1.000005e+00              1.000005e+00  1.000005e+00   \n",
       "min                    -4.575540e+00             -5.013380e+00 -2.917539e-02   \n",
       "25%                    -2.685504e-01             -1.533980e-01 -2.917539e-02   \n",
       "50%                    -1.418742e-01             -1.052793e-01 -2.917539e-02   \n",
       "75%                     1.537035e-01              8.719518e-02 -2.917539e-02   \n",
       "max                     3.827312e+00              4.465991e+00  3.427547e+01   \n",
       "\n",
       "          cirrhosis  diabetes_mellitus  hepatic_failure  immunosuppression  \\\n",
       "count  9.171300e+04       9.171300e+04     9.171300e+04       9.171300e+04   \n",
       "mean   6.972713e-18       1.491386e-17    -1.750926e-17      -1.611472e-17   \n",
       "std    1.000005e+00       1.000005e+00     1.000005e+00       1.000005e+00   \n",
       "min   -1.257640e-01      -5.363992e-01    -1.142642e-01      -1.632586e-01   \n",
       "25%   -1.257640e-01      -5.363992e-01    -1.142642e-01      -1.632586e-01   \n",
       "50%   -1.257640e-01      -5.363992e-01    -1.142642e-01      -1.632586e-01   \n",
       "75%   -1.257640e-01      -5.363992e-01    -1.142642e-01      -1.632586e-01   \n",
       "max    7.951402e+00       1.864283e+00     8.751650e+00       6.125250e+00   \n",
       "\n",
       "           leukemia      lymphoma  solid_tumor_with_metastasis  \n",
       "count  9.171300e+04  9.171300e+04                 9.171300e+04  \n",
       "mean   5.190798e-18 -5.965544e-18                -3.594821e-17  \n",
       "std    1.000005e+00  1.000005e+00                 1.000005e+00  \n",
       "min   -8.402680e-02 -6.416092e-02                -1.445856e-01  \n",
       "25%   -8.402680e-02 -6.416092e-02                -1.445856e-01  \n",
       "50%   -8.402680e-02 -6.416092e-02                -1.445856e-01  \n",
       "75%   -8.402680e-02 -6.416092e-02                -1.445856e-01  \n",
       "max    1.190097e+01  1.558581e+01                 6.916319e+00  \n",
       "\n",
       "[8 rows x 66 columns]"
      ]
     },
     "execution_count": 19,
     "metadata": {},
     "output_type": "execute_result"
    }
   ],
   "source": [
    "# scale features\n",
    "category_names = list(nume_features.columns)\n",
    "nume_features = preprocessing.scale(nume_features) # rescale features\n",
    "nume_features = pd.DataFrame(nume_features, columns=category_names)\n",
    "nume_features.describe(include = 'all')"
   ]
  },
  {
   "cell_type": "code",
   "execution_count": 20,
   "metadata": {
    "slideshow": {
     "slide_type": "skip"
    }
   },
   "outputs": [],
   "source": [
    "# combine one-hot encoded categorical features with normalized numerical features\n",
    "features = one_hot_encoded.join(nume_features)\n",
    "\n",
    "# save to file\n",
    "features.to_csv('data/preprocessed.csv', index=False)\n"
   ]
  }
 ],
 "metadata": {
  "celltoolbar": "Slideshow",
  "kernelspec": {
   "display_name": "Python 3",
   "language": "python",
   "name": "python3"
  },
  "language_info": {
   "codemirror_mode": {
    "name": "ipython",
    "version": 3
   },
   "file_extension": ".py",
   "mimetype": "text/x-python",
   "name": "python",
   "nbconvert_exporter": "python",
   "pygments_lexer": "ipython3",
   "version": "3.6.7"
  }
 },
 "nbformat": 4,
 "nbformat_minor": 2
}
